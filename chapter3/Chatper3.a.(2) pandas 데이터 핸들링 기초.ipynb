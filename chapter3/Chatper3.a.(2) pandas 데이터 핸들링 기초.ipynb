{
 "cells": [
  {
   "cell_type": "markdown",
   "id": "526b1ea2",
   "metadata": {},
   "source": [
    "# 3. pandas를 사용한 데이터 연산\n",
    "- 판다스의 핵심 구조체 중 하나는 `Series`입니다. `Series`를 사용하여 다양한 데이터 연산을 수행할 수 있으며, 이는 일반적으로 빠르고 효율적인 벡터화 연산을 제공합니다."
   ]
  },
  {
   "cell_type": "code",
   "id": "ee8d5e9c",
   "metadata": {
    "ExecuteTime": {
     "end_time": "2024-12-16T13:00:01.834530Z",
     "start_time": "2024-12-16T13:00:01.828027Z"
    }
   },
   "source": [
    "import pandas as pd\n",
    "data = pd.read_csv(\"../dataset/yfinance_aapl.csv\", index_col=0)\n",
    "data.head(3)"
   ],
   "outputs": [
    {
     "data": {
      "text/plain": [
       "         Date        Open        High         Low       Close   Adj Close  \\\n",
       "0  2023-07-19  193.100006  198.229996  192.649994  195.100006  194.069351   \n",
       "1  2023-07-20  195.089996  196.470001  192.500000  193.130005  192.109756   \n",
       "2  2023-07-21  194.100006  194.970001  191.229996  191.940002  190.926041   \n",
       "\n",
       "     Volume  \n",
       "0  80507300  \n",
       "1  59581200  \n",
       "2  71917800  "
      ],
      "text/html": [
       "<div>\n",
       "<style scoped>\n",
       "    .dataframe tbody tr th:only-of-type {\n",
       "        vertical-align: middle;\n",
       "    }\n",
       "\n",
       "    .dataframe tbody tr th {\n",
       "        vertical-align: top;\n",
       "    }\n",
       "\n",
       "    .dataframe thead th {\n",
       "        text-align: right;\n",
       "    }\n",
       "</style>\n",
       "<table border=\"1\" class=\"dataframe\">\n",
       "  <thead>\n",
       "    <tr style=\"text-align: right;\">\n",
       "      <th></th>\n",
       "      <th>Date</th>\n",
       "      <th>Open</th>\n",
       "      <th>High</th>\n",
       "      <th>Low</th>\n",
       "      <th>Close</th>\n",
       "      <th>Adj Close</th>\n",
       "      <th>Volume</th>\n",
       "    </tr>\n",
       "  </thead>\n",
       "  <tbody>\n",
       "    <tr>\n",
       "      <th>0</th>\n",
       "      <td>2023-07-19</td>\n",
       "      <td>193.100006</td>\n",
       "      <td>198.229996</td>\n",
       "      <td>192.649994</td>\n",
       "      <td>195.100006</td>\n",
       "      <td>194.069351</td>\n",
       "      <td>80507300</td>\n",
       "    </tr>\n",
       "    <tr>\n",
       "      <th>1</th>\n",
       "      <td>2023-07-20</td>\n",
       "      <td>195.089996</td>\n",
       "      <td>196.470001</td>\n",
       "      <td>192.500000</td>\n",
       "      <td>193.130005</td>\n",
       "      <td>192.109756</td>\n",
       "      <td>59581200</td>\n",
       "    </tr>\n",
       "    <tr>\n",
       "      <th>2</th>\n",
       "      <td>2023-07-21</td>\n",
       "      <td>194.100006</td>\n",
       "      <td>194.970001</td>\n",
       "      <td>191.229996</td>\n",
       "      <td>191.940002</td>\n",
       "      <td>190.926041</td>\n",
       "      <td>71917800</td>\n",
       "    </tr>\n",
       "  </tbody>\n",
       "</table>\n",
       "</div>"
      ]
     },
     "execution_count": 2,
     "metadata": {},
     "output_type": "execute_result"
    }
   ],
   "execution_count": 2
  },
  {
   "cell_type": "code",
   "id": "8351f282",
   "metadata": {
    "ExecuteTime": {
     "end_time": "2024-12-16T13:00:01.904877Z",
     "start_time": "2024-12-16T13:00:01.893926Z"
    }
   },
   "source": [
    "# 데이터 정보 요약해서 보기\n",
    "data.describe()"
   ],
   "outputs": [
    {
     "data": {
      "text/plain": [
       "             Open        High         Low       Close   Adj Close  \\\n",
       "count  252.000000  252.000000  252.000000  252.000000  252.000000   \n",
       "mean   185.951428  187.583770  184.420873  186.027341  185.602560   \n",
       "std     14.391816   14.577876   14.124481   14.404462   14.508680   \n",
       "min    165.350006  166.399994  164.080002  165.000000  164.776505   \n",
       "25%    175.277496  177.052502  173.700005  175.370007  174.801842   \n",
       "50%    183.735001  185.119995  182.014999  183.989998  183.502808   \n",
       "75%    192.592503  194.017498  191.277496  192.447498  191.941902   \n",
       "max    236.479996  237.229996  233.089996  234.820007  234.820007   \n",
       "\n",
       "             Volume  \n",
       "count  2.520000e+02  \n",
       "mean   6.068494e+07  \n",
       "std    2.464521e+07  \n",
       "min    2.404830e+07  \n",
       "25%    4.742450e+07  \n",
       "50%    5.430360e+07  \n",
       "75%    6.615335e+07  \n",
       "max    2.464214e+08  "
      ],
      "text/html": [
       "<div>\n",
       "<style scoped>\n",
       "    .dataframe tbody tr th:only-of-type {\n",
       "        vertical-align: middle;\n",
       "    }\n",
       "\n",
       "    .dataframe tbody tr th {\n",
       "        vertical-align: top;\n",
       "    }\n",
       "\n",
       "    .dataframe thead th {\n",
       "        text-align: right;\n",
       "    }\n",
       "</style>\n",
       "<table border=\"1\" class=\"dataframe\">\n",
       "  <thead>\n",
       "    <tr style=\"text-align: right;\">\n",
       "      <th></th>\n",
       "      <th>Open</th>\n",
       "      <th>High</th>\n",
       "      <th>Low</th>\n",
       "      <th>Close</th>\n",
       "      <th>Adj Close</th>\n",
       "      <th>Volume</th>\n",
       "    </tr>\n",
       "  </thead>\n",
       "  <tbody>\n",
       "    <tr>\n",
       "      <th>count</th>\n",
       "      <td>252.000000</td>\n",
       "      <td>252.000000</td>\n",
       "      <td>252.000000</td>\n",
       "      <td>252.000000</td>\n",
       "      <td>252.000000</td>\n",
       "      <td>2.520000e+02</td>\n",
       "    </tr>\n",
       "    <tr>\n",
       "      <th>mean</th>\n",
       "      <td>185.951428</td>\n",
       "      <td>187.583770</td>\n",
       "      <td>184.420873</td>\n",
       "      <td>186.027341</td>\n",
       "      <td>185.602560</td>\n",
       "      <td>6.068494e+07</td>\n",
       "    </tr>\n",
       "    <tr>\n",
       "      <th>std</th>\n",
       "      <td>14.391816</td>\n",
       "      <td>14.577876</td>\n",
       "      <td>14.124481</td>\n",
       "      <td>14.404462</td>\n",
       "      <td>14.508680</td>\n",
       "      <td>2.464521e+07</td>\n",
       "    </tr>\n",
       "    <tr>\n",
       "      <th>min</th>\n",
       "      <td>165.350006</td>\n",
       "      <td>166.399994</td>\n",
       "      <td>164.080002</td>\n",
       "      <td>165.000000</td>\n",
       "      <td>164.776505</td>\n",
       "      <td>2.404830e+07</td>\n",
       "    </tr>\n",
       "    <tr>\n",
       "      <th>25%</th>\n",
       "      <td>175.277496</td>\n",
       "      <td>177.052502</td>\n",
       "      <td>173.700005</td>\n",
       "      <td>175.370007</td>\n",
       "      <td>174.801842</td>\n",
       "      <td>4.742450e+07</td>\n",
       "    </tr>\n",
       "    <tr>\n",
       "      <th>50%</th>\n",
       "      <td>183.735001</td>\n",
       "      <td>185.119995</td>\n",
       "      <td>182.014999</td>\n",
       "      <td>183.989998</td>\n",
       "      <td>183.502808</td>\n",
       "      <td>5.430360e+07</td>\n",
       "    </tr>\n",
       "    <tr>\n",
       "      <th>75%</th>\n",
       "      <td>192.592503</td>\n",
       "      <td>194.017498</td>\n",
       "      <td>191.277496</td>\n",
       "      <td>192.447498</td>\n",
       "      <td>191.941902</td>\n",
       "      <td>6.615335e+07</td>\n",
       "    </tr>\n",
       "    <tr>\n",
       "      <th>max</th>\n",
       "      <td>236.479996</td>\n",
       "      <td>237.229996</td>\n",
       "      <td>233.089996</td>\n",
       "      <td>234.820007</td>\n",
       "      <td>234.820007</td>\n",
       "      <td>2.464214e+08</td>\n",
       "    </tr>\n",
       "  </tbody>\n",
       "</table>\n",
       "</div>"
      ]
     },
     "execution_count": 3,
     "metadata": {},
     "output_type": "execute_result"
    }
   ],
   "execution_count": 3
  },
  {
   "cell_type": "markdown",
   "id": "55c9a5f5",
   "metadata": {},
   "source": [
    "## (2) 산술연산\n",
    "`Series` 객체는 `+`, `-`, `*`, `/` 등의 연산자를 사용하여 산술 연산을 수행할 수 있습니다. 이 때 인덱스가 동일한 요소끼리 연산이 수행됩니다.\n"
   ]
  },
  {
   "cell_type": "code",
   "id": "4edefe3f",
   "metadata": {
    "ExecuteTime": {
     "end_time": "2024-12-16T13:00:01.958463Z",
     "start_time": "2024-12-16T13:00:01.950482Z"
    }
   },
   "source": [
    "data[\"Open\"] / data[\"Close\"]"
   ],
   "outputs": [
    {
     "data": {
      "text/plain": [
       "0      0.989749\n",
       "1      1.010149\n",
       "2      1.011254\n",
       "3      1.003424\n",
       "4      0.998502\n",
       "         ...   \n",
       "247    0.992973\n",
       "248    1.008874\n",
       "249    1.000767\n",
       "250    1.002490\n",
       "251    1.027210\n",
       "Length: 252, dtype: float64"
      ]
     },
     "execution_count": 4,
     "metadata": {},
     "output_type": "execute_result"
    }
   ],
   "execution_count": 4
  },
  {
   "cell_type": "markdown",
   "id": "810cacfc",
   "metadata": {},
   "source": [
    "## (2) 통계연산\n",
    "`mean`, `sum`, `min`, `max` 등의 통계적 메서드를 사용하여 계산을 수행할 수 있습니다.\n"
   ]
  },
  {
   "cell_type": "code",
   "id": "6361f976",
   "metadata": {
    "ExecuteTime": {
     "end_time": "2024-12-16T13:00:02.145250Z",
     "start_time": "2024-12-16T13:00:02.142669Z"
    }
   },
   "source": [
    "# 평균 계산하기\n",
    "data[\"Open\"].mean()"
   ],
   "outputs": [
    {
     "data": {
      "text/plain": [
       "np.float64(185.9514284285288)"
      ]
     },
     "execution_count": 5,
     "metadata": {},
     "output_type": "execute_result"
    }
   ],
   "execution_count": 5
  },
  {
   "cell_type": "code",
   "id": "91d5ecef",
   "metadata": {
    "ExecuteTime": {
     "end_time": "2024-12-16T13:00:02.320168Z",
     "start_time": "2024-12-16T13:00:02.317117Z"
    }
   },
   "source": [
    "# 모든 값 더하기\n",
    "data[\"Open\"].sum()"
   ],
   "outputs": [
    {
     "data": {
      "text/plain": [
       "np.float64(46859.75996398926)"
      ]
     },
     "execution_count": 6,
     "metadata": {},
     "output_type": "execute_result"
    }
   ],
   "execution_count": 6
  },
  {
   "cell_type": "code",
   "id": "5c55559c",
   "metadata": {
    "ExecuteTime": {
     "end_time": "2024-12-16T13:00:02.443039Z",
     "start_time": "2024-12-16T13:00:02.432385Z"
    }
   },
   "source": [
    "# 최댓값 구하기\n",
    "data[\"Open\"].max()"
   ],
   "outputs": [
    {
     "data": {
      "text/plain": [
       "np.float64(236.47999572753903)"
      ]
     },
     "execution_count": 7,
     "metadata": {},
     "output_type": "execute_result"
    }
   ],
   "execution_count": 7
  },
  {
   "cell_type": "code",
   "id": "c5fc8d00-ceb2-4451-a671-364afb0c2aa9",
   "metadata": {
    "ExecuteTime": {
     "end_time": "2024-12-16T13:00:02.477193Z",
     "start_time": "2024-12-16T13:00:02.474666Z"
    }
   },
   "source": [
    "# 최솟값 구하기\n",
    "data[\"Open\"].min()"
   ],
   "outputs": [
    {
     "data": {
      "text/plain": [
       "np.float64(165.35000610351562)"
      ]
     },
     "execution_count": 8,
     "metadata": {},
     "output_type": "execute_result"
    }
   ],
   "execution_count": 8
  },
  {
   "cell_type": "code",
   "id": "e6079962",
   "metadata": {
    "ExecuteTime": {
     "end_time": "2024-12-16T13:00:02.553623Z",
     "start_time": "2024-12-16T13:00:02.549889Z"
    }
   },
   "source": [
    "# 매일 시초에 사서 고가에 팔았을 때를 가정하여 수익률 계산하기\n",
    "profit = data[\"High\"] / data[\"Open\"]\n",
    "profit.head(5)"
   ],
   "outputs": [
    {
     "data": {
      "text/plain": [
       "0    1.026566\n",
       "1    1.007074\n",
       "2    1.004482\n",
       "3    1.007756\n",
       "4    1.005741\n",
       "dtype: float64"
      ]
     },
     "execution_count": 9,
     "metadata": {},
     "output_type": "execute_result"
    }
   ],
   "execution_count": 9
  },
  {
   "cell_type": "code",
   "id": "2d383176",
   "metadata": {
    "ExecuteTime": {
     "end_time": "2024-12-16T13:00:02.601318Z",
     "start_time": "2024-12-16T13:00:02.598238Z"
    }
   },
   "source": [
    "# .cumprod()를 사용하여 누적 수익률 계산하기\n",
    "profit.cumprod().head(5)"
   ],
   "outputs": [
    {
     "data": {
      "text/plain": [
       "0    1.026566\n",
       "1    1.033828\n",
       "2    1.038462\n",
       "3    1.046516\n",
       "4    1.052524\n",
       "dtype: float64"
      ]
     },
     "execution_count": 10,
     "metadata": {},
     "output_type": "execute_result"
    }
   ],
   "execution_count": 10
  },
  {
   "cell_type": "code",
   "id": "c33c520f",
   "metadata": {
    "ExecuteTime": {
     "end_time": "2024-12-16T13:00:02.700321Z",
     "start_time": "2024-12-16T13:00:02.696101Z"
    }
   },
   "source": [
    "data.head(3)"
   ],
   "outputs": [
    {
     "data": {
      "text/plain": [
       "         Date        Open        High         Low       Close   Adj Close  \\\n",
       "0  2023-07-19  193.100006  198.229996  192.649994  195.100006  194.069351   \n",
       "1  2023-07-20  195.089996  196.470001  192.500000  193.130005  192.109756   \n",
       "2  2023-07-21  194.100006  194.970001  191.229996  191.940002  190.926041   \n",
       "\n",
       "     Volume  \n",
       "0  80507300  \n",
       "1  59581200  \n",
       "2  71917800  "
      ],
      "text/html": [
       "<div>\n",
       "<style scoped>\n",
       "    .dataframe tbody tr th:only-of-type {\n",
       "        vertical-align: middle;\n",
       "    }\n",
       "\n",
       "    .dataframe tbody tr th {\n",
       "        vertical-align: top;\n",
       "    }\n",
       "\n",
       "    .dataframe thead th {\n",
       "        text-align: right;\n",
       "    }\n",
       "</style>\n",
       "<table border=\"1\" class=\"dataframe\">\n",
       "  <thead>\n",
       "    <tr style=\"text-align: right;\">\n",
       "      <th></th>\n",
       "      <th>Date</th>\n",
       "      <th>Open</th>\n",
       "      <th>High</th>\n",
       "      <th>Low</th>\n",
       "      <th>Close</th>\n",
       "      <th>Adj Close</th>\n",
       "      <th>Volume</th>\n",
       "    </tr>\n",
       "  </thead>\n",
       "  <tbody>\n",
       "    <tr>\n",
       "      <th>0</th>\n",
       "      <td>2023-07-19</td>\n",
       "      <td>193.100006</td>\n",
       "      <td>198.229996</td>\n",
       "      <td>192.649994</td>\n",
       "      <td>195.100006</td>\n",
       "      <td>194.069351</td>\n",
       "      <td>80507300</td>\n",
       "    </tr>\n",
       "    <tr>\n",
       "      <th>1</th>\n",
       "      <td>2023-07-20</td>\n",
       "      <td>195.089996</td>\n",
       "      <td>196.470001</td>\n",
       "      <td>192.500000</td>\n",
       "      <td>193.130005</td>\n",
       "      <td>192.109756</td>\n",
       "      <td>59581200</td>\n",
       "    </tr>\n",
       "    <tr>\n",
       "      <th>2</th>\n",
       "      <td>2023-07-21</td>\n",
       "      <td>194.100006</td>\n",
       "      <td>194.970001</td>\n",
       "      <td>191.229996</td>\n",
       "      <td>191.940002</td>\n",
       "      <td>190.926041</td>\n",
       "      <td>71917800</td>\n",
       "    </tr>\n",
       "  </tbody>\n",
       "</table>\n",
       "</div>"
      ]
     },
     "execution_count": 11,
     "metadata": {},
     "output_type": "execute_result"
    }
   ],
   "execution_count": 11
  },
  {
   "cell_type": "code",
   "id": "60d8d414",
   "metadata": {
    "ExecuteTime": {
     "end_time": "2024-12-16T13:00:02.805173Z",
     "start_time": "2024-12-16T13:00:02.800773Z"
    }
   },
   "source": [
    "# .diff()를 사용하여 전날과의 시초값 차이 계산하기\n",
    "data[\"Open\"].diff().head(5)"
   ],
   "outputs": [
    {
     "data": {
      "text/plain": [
       "0         NaN\n",
       "1         NaN\n",
       "2    1.000000\n",
       "3   -1.679993\n",
       "4   -0.770004\n",
       "Name: Open, dtype: float64"
      ]
     },
     "execution_count": 12,
     "metadata": {},
     "output_type": "execute_result"
    }
   ],
   "execution_count": 12
  },
  {
   "cell_type": "code",
   "id": "6c2e2231",
   "metadata": {
    "ExecuteTime": {
     "end_time": "2024-12-16T13:00:02.883820Z",
     "start_time": "2024-12-16T13:00:02.880964Z"
    }
   },
   "source": [
    "# .diff(2)를 사용하여 이틀 전과의 시초값 차이 계산하기\n",
    "data[\"Open\"].diff(2).head(5)"
   ],
   "outputs": [
    {
     "data": {
      "text/plain": [
       "0         NaN\n",
       "1    1.989990\n",
       "2   -0.989990\n",
       "3   -0.690002\n",
       "4   -0.080002\n",
       "Name: Open, dtype: float64"
      ]
     },
     "execution_count": 13,
     "metadata": {},
     "output_type": "execute_result"
    }
   ],
   "execution_count": 13
  },
  {
   "cell_type": "markdown",
   "id": "044fe81e",
   "metadata": {},
   "source": [
    "## (3) 정렬\n",
    "`sort_values`, `sort_index` 메서드를 사용하여 값 또는 인덱스 기준으로 정렬할 수 있습니다.\n"
   ]
  },
  {
   "cell_type": "code",
   "id": "631fff2f-3e61-4936-a74c-9b1aee180773",
   "metadata": {
    "ExecuteTime": {
     "end_time": "2024-12-16T13:00:02.972559Z",
     "start_time": "2024-12-16T13:00:02.967601Z"
    }
   },
   "source": [
    "# .sort_values()를 사용하여 DataFrame 전체를 거래량 열에 대해서 정렬하기\n",
    "data.sort_values(by=\"Volume\").head()"
   ],
   "outputs": [
    {
     "data": {
      "text/plain": [
       "           Date        Open        High         Low       Close   Adj Close  \\\n",
       "90   2023-11-24  190.869995  190.899994  189.250000  189.970001  189.470901   \n",
       "111  2023-12-26  193.610001  193.889999  192.830002  193.050003  192.542816   \n",
       "113  2023-12-28  194.139999  194.660004  193.169998  193.580002  193.071426   \n",
       "213  2024-05-22  192.270004  192.820007  190.270004  190.899994  190.899994   \n",
       "9    2023-08-01  196.240005  196.729996  195.279999  195.610001  194.576645   \n",
       "\n",
       "       Volume  \n",
       "90   24048300  \n",
       "111  28919300  \n",
       "113  34049900  \n",
       "213  34648500  \n",
       "9    35175100  "
      ],
      "text/html": [
       "<div>\n",
       "<style scoped>\n",
       "    .dataframe tbody tr th:only-of-type {\n",
       "        vertical-align: middle;\n",
       "    }\n",
       "\n",
       "    .dataframe tbody tr th {\n",
       "        vertical-align: top;\n",
       "    }\n",
       "\n",
       "    .dataframe thead th {\n",
       "        text-align: right;\n",
       "    }\n",
       "</style>\n",
       "<table border=\"1\" class=\"dataframe\">\n",
       "  <thead>\n",
       "    <tr style=\"text-align: right;\">\n",
       "      <th></th>\n",
       "      <th>Date</th>\n",
       "      <th>Open</th>\n",
       "      <th>High</th>\n",
       "      <th>Low</th>\n",
       "      <th>Close</th>\n",
       "      <th>Adj Close</th>\n",
       "      <th>Volume</th>\n",
       "    </tr>\n",
       "  </thead>\n",
       "  <tbody>\n",
       "    <tr>\n",
       "      <th>90</th>\n",
       "      <td>2023-11-24</td>\n",
       "      <td>190.869995</td>\n",
       "      <td>190.899994</td>\n",
       "      <td>189.250000</td>\n",
       "      <td>189.970001</td>\n",
       "      <td>189.470901</td>\n",
       "      <td>24048300</td>\n",
       "    </tr>\n",
       "    <tr>\n",
       "      <th>111</th>\n",
       "      <td>2023-12-26</td>\n",
       "      <td>193.610001</td>\n",
       "      <td>193.889999</td>\n",
       "      <td>192.830002</td>\n",
       "      <td>193.050003</td>\n",
       "      <td>192.542816</td>\n",
       "      <td>28919300</td>\n",
       "    </tr>\n",
       "    <tr>\n",
       "      <th>113</th>\n",
       "      <td>2023-12-28</td>\n",
       "      <td>194.139999</td>\n",
       "      <td>194.660004</td>\n",
       "      <td>193.169998</td>\n",
       "      <td>193.580002</td>\n",
       "      <td>193.071426</td>\n",
       "      <td>34049900</td>\n",
       "    </tr>\n",
       "    <tr>\n",
       "      <th>213</th>\n",
       "      <td>2024-05-22</td>\n",
       "      <td>192.270004</td>\n",
       "      <td>192.820007</td>\n",
       "      <td>190.270004</td>\n",
       "      <td>190.899994</td>\n",
       "      <td>190.899994</td>\n",
       "      <td>34648500</td>\n",
       "    </tr>\n",
       "    <tr>\n",
       "      <th>9</th>\n",
       "      <td>2023-08-01</td>\n",
       "      <td>196.240005</td>\n",
       "      <td>196.729996</td>\n",
       "      <td>195.279999</td>\n",
       "      <td>195.610001</td>\n",
       "      <td>194.576645</td>\n",
       "      <td>35175100</td>\n",
       "    </tr>\n",
       "  </tbody>\n",
       "</table>\n",
       "</div>"
      ]
     },
     "execution_count": 14,
     "metadata": {},
     "output_type": "execute_result"
    }
   ],
   "execution_count": 14
  },
  {
   "cell_type": "code",
   "id": "e3151243",
   "metadata": {
    "ExecuteTime": {
     "end_time": "2024-12-16T13:00:03.083253Z",
     "start_time": "2024-12-16T13:00:03.078845Z"
    }
   },
   "source": [
    "data.sort_values(by=\"Volume\", ascending=False).head()"
   ],
   "outputs": [
    {
     "data": {
      "text/plain": [
       "           Date        Open        High         Low       Close   Adj Close  \\\n",
       "233  2024-06-21  210.389999  211.889999  207.110001  207.490005  207.490005   \n",
       "227  2024-06-12  207.369995  220.199997  206.899994  213.070007  213.070007   \n",
       "226  2024-06-11  193.649994  207.160004  193.630005  207.149994  207.149994   \n",
       "200  2024-05-03  186.649994  187.000000  182.660004  183.380005  183.131607   \n",
       "155  2024-02-29  181.270004  182.570007  179.529999  180.750000  180.505173   \n",
       "\n",
       "        Volume  \n",
       "233  246421400  \n",
       "227  198134300  \n",
       "226  172373300  \n",
       "200  163224100  \n",
       "155  136682600  "
      ],
      "text/html": [
       "<div>\n",
       "<style scoped>\n",
       "    .dataframe tbody tr th:only-of-type {\n",
       "        vertical-align: middle;\n",
       "    }\n",
       "\n",
       "    .dataframe tbody tr th {\n",
       "        vertical-align: top;\n",
       "    }\n",
       "\n",
       "    .dataframe thead th {\n",
       "        text-align: right;\n",
       "    }\n",
       "</style>\n",
       "<table border=\"1\" class=\"dataframe\">\n",
       "  <thead>\n",
       "    <tr style=\"text-align: right;\">\n",
       "      <th></th>\n",
       "      <th>Date</th>\n",
       "      <th>Open</th>\n",
       "      <th>High</th>\n",
       "      <th>Low</th>\n",
       "      <th>Close</th>\n",
       "      <th>Adj Close</th>\n",
       "      <th>Volume</th>\n",
       "    </tr>\n",
       "  </thead>\n",
       "  <tbody>\n",
       "    <tr>\n",
       "      <th>233</th>\n",
       "      <td>2024-06-21</td>\n",
       "      <td>210.389999</td>\n",
       "      <td>211.889999</td>\n",
       "      <td>207.110001</td>\n",
       "      <td>207.490005</td>\n",
       "      <td>207.490005</td>\n",
       "      <td>246421400</td>\n",
       "    </tr>\n",
       "    <tr>\n",
       "      <th>227</th>\n",
       "      <td>2024-06-12</td>\n",
       "      <td>207.369995</td>\n",
       "      <td>220.199997</td>\n",
       "      <td>206.899994</td>\n",
       "      <td>213.070007</td>\n",
       "      <td>213.070007</td>\n",
       "      <td>198134300</td>\n",
       "    </tr>\n",
       "    <tr>\n",
       "      <th>226</th>\n",
       "      <td>2024-06-11</td>\n",
       "      <td>193.649994</td>\n",
       "      <td>207.160004</td>\n",
       "      <td>193.630005</td>\n",
       "      <td>207.149994</td>\n",
       "      <td>207.149994</td>\n",
       "      <td>172373300</td>\n",
       "    </tr>\n",
       "    <tr>\n",
       "      <th>200</th>\n",
       "      <td>2024-05-03</td>\n",
       "      <td>186.649994</td>\n",
       "      <td>187.000000</td>\n",
       "      <td>182.660004</td>\n",
       "      <td>183.380005</td>\n",
       "      <td>183.131607</td>\n",
       "      <td>163224100</td>\n",
       "    </tr>\n",
       "    <tr>\n",
       "      <th>155</th>\n",
       "      <td>2024-02-29</td>\n",
       "      <td>181.270004</td>\n",
       "      <td>182.570007</td>\n",
       "      <td>179.529999</td>\n",
       "      <td>180.750000</td>\n",
       "      <td>180.505173</td>\n",
       "      <td>136682600</td>\n",
       "    </tr>\n",
       "  </tbody>\n",
       "</table>\n",
       "</div>"
      ]
     },
     "execution_count": 15,
     "metadata": {},
     "output_type": "execute_result"
    }
   ],
   "execution_count": 15
  },
  {
   "cell_type": "code",
   "id": "7ce0aac8",
   "metadata": {
    "ExecuteTime": {
     "end_time": "2024-12-16T13:00:03.214693Z",
     "start_time": "2024-12-16T13:00:03.208872Z"
    }
   },
   "source": [
    "data.sort_values(by=\"Volume\", ascending=False).sort_index().head()"
   ],
   "outputs": [
    {
     "data": {
      "text/plain": [
       "         Date        Open        High         Low       Close   Adj Close  \\\n",
       "0  2023-07-19  193.100006  198.229996  192.649994  195.100006  194.069351   \n",
       "1  2023-07-20  195.089996  196.470001  192.500000  193.130005  192.109756   \n",
       "2  2023-07-21  194.100006  194.970001  191.229996  191.940002  190.926041   \n",
       "3  2023-07-24  193.410004  194.910004  192.250000  192.750000  191.731766   \n",
       "4  2023-07-25  193.330002  194.440002  192.919998  193.619995  192.597153   \n",
       "\n",
       "     Volume  \n",
       "0  80507300  \n",
       "1  59581200  \n",
       "2  71917800  \n",
       "3  45377800  \n",
       "4  37283200  "
      ],
      "text/html": [
       "<div>\n",
       "<style scoped>\n",
       "    .dataframe tbody tr th:only-of-type {\n",
       "        vertical-align: middle;\n",
       "    }\n",
       "\n",
       "    .dataframe tbody tr th {\n",
       "        vertical-align: top;\n",
       "    }\n",
       "\n",
       "    .dataframe thead th {\n",
       "        text-align: right;\n",
       "    }\n",
       "</style>\n",
       "<table border=\"1\" class=\"dataframe\">\n",
       "  <thead>\n",
       "    <tr style=\"text-align: right;\">\n",
       "      <th></th>\n",
       "      <th>Date</th>\n",
       "      <th>Open</th>\n",
       "      <th>High</th>\n",
       "      <th>Low</th>\n",
       "      <th>Close</th>\n",
       "      <th>Adj Close</th>\n",
       "      <th>Volume</th>\n",
       "    </tr>\n",
       "  </thead>\n",
       "  <tbody>\n",
       "    <tr>\n",
       "      <th>0</th>\n",
       "      <td>2023-07-19</td>\n",
       "      <td>193.100006</td>\n",
       "      <td>198.229996</td>\n",
       "      <td>192.649994</td>\n",
       "      <td>195.100006</td>\n",
       "      <td>194.069351</td>\n",
       "      <td>80507300</td>\n",
       "    </tr>\n",
       "    <tr>\n",
       "      <th>1</th>\n",
       "      <td>2023-07-20</td>\n",
       "      <td>195.089996</td>\n",
       "      <td>196.470001</td>\n",
       "      <td>192.500000</td>\n",
       "      <td>193.130005</td>\n",
       "      <td>192.109756</td>\n",
       "      <td>59581200</td>\n",
       "    </tr>\n",
       "    <tr>\n",
       "      <th>2</th>\n",
       "      <td>2023-07-21</td>\n",
       "      <td>194.100006</td>\n",
       "      <td>194.970001</td>\n",
       "      <td>191.229996</td>\n",
       "      <td>191.940002</td>\n",
       "      <td>190.926041</td>\n",
       "      <td>71917800</td>\n",
       "    </tr>\n",
       "    <tr>\n",
       "      <th>3</th>\n",
       "      <td>2023-07-24</td>\n",
       "      <td>193.410004</td>\n",
       "      <td>194.910004</td>\n",
       "      <td>192.250000</td>\n",
       "      <td>192.750000</td>\n",
       "      <td>191.731766</td>\n",
       "      <td>45377800</td>\n",
       "    </tr>\n",
       "    <tr>\n",
       "      <th>4</th>\n",
       "      <td>2023-07-25</td>\n",
       "      <td>193.330002</td>\n",
       "      <td>194.440002</td>\n",
       "      <td>192.919998</td>\n",
       "      <td>193.619995</td>\n",
       "      <td>192.597153</td>\n",
       "      <td>37283200</td>\n",
       "    </tr>\n",
       "  </tbody>\n",
       "</table>\n",
       "</div>"
      ]
     },
     "execution_count": 16,
     "metadata": {},
     "output_type": "execute_result"
    }
   ],
   "execution_count": 16
  },
  {
   "cell_type": "code",
   "id": "21a00ab8",
   "metadata": {
    "ExecuteTime": {
     "end_time": "2024-12-16T13:00:03.303487Z",
     "start_time": "2024-12-16T13:00:03.300519Z"
    }
   },
   "source": [
    "# Column 하나를 정렬하기\n",
    "data[\"Open\"].sort_values().head()"
   ],
   "outputs": [
    {
     "data": {
      "text/plain": [
       "192    165.350006\n",
       "191    165.520004\n",
       "190    166.210007\n",
       "193    166.539993\n",
       "71     166.910004\n",
       "Name: Open, dtype: float64"
      ]
     },
     "execution_count": 17,
     "metadata": {},
     "output_type": "execute_result"
    }
   ],
   "execution_count": 17
  },
  {
   "cell_type": "code",
   "id": "bb11817d",
   "metadata": {
    "ExecuteTime": {
     "end_time": "2024-12-16T13:00:03.441865Z",
     "start_time": "2024-12-16T13:00:03.440448Z"
    }
   },
   "source": [],
   "outputs": [],
   "execution_count": null
  },
  {
   "cell_type": "markdown",
   "id": "ed113b2b",
   "metadata": {},
   "source": [
    "---"
   ]
  },
  {
   "cell_type": "markdown",
   "id": "83756004",
   "metadata": {},
   "source": [
    "# 4. 결측치(Nan) 데이터 처리하기\n",
    "- 결측치는 데이터가 누락되었거나 사용할 수 없음을 나타내며, 데이터 분석 과정에서 중요한 고려사항입니다."
   ]
  },
  {
   "cell_type": "code",
   "id": "f8bd1f52",
   "metadata": {
    "ExecuteTime": {
     "end_time": "2024-12-16T13:00:03.556995Z",
     "start_time": "2024-12-16T13:00:03.555141Z"
    }
   },
   "source": [
    "import pandas as pd\n",
    "import numpy as np"
   ],
   "outputs": [],
   "execution_count": 18
  },
  {
   "cell_type": "code",
   "id": "dc35c685",
   "metadata": {
    "ExecuteTime": {
     "end_time": "2024-12-16T13:00:03.661704Z",
     "start_time": "2024-12-16T13:00:03.657417Z"
    }
   },
   "source": [
    "df = pd.DataFrame({\n",
    "    'A': [1, 2, np.nan, 4],\n",
    "    'B': [5, np.nan, np.nan, 8],\n",
    "    'C': [10, 20, 30, 40]\n",
    "})\n",
    "\n",
    "# A,B열에 결측치(NaN) 데이터가 있음\n",
    "df"
   ],
   "outputs": [
    {
     "data": {
      "text/plain": [
       "     A    B   C\n",
       "0  1.0  5.0  10\n",
       "1  2.0  NaN  20\n",
       "2  NaN  NaN  30\n",
       "3  4.0  8.0  40"
      ],
      "text/html": [
       "<div>\n",
       "<style scoped>\n",
       "    .dataframe tbody tr th:only-of-type {\n",
       "        vertical-align: middle;\n",
       "    }\n",
       "\n",
       "    .dataframe tbody tr th {\n",
       "        vertical-align: top;\n",
       "    }\n",
       "\n",
       "    .dataframe thead th {\n",
       "        text-align: right;\n",
       "    }\n",
       "</style>\n",
       "<table border=\"1\" class=\"dataframe\">\n",
       "  <thead>\n",
       "    <tr style=\"text-align: right;\">\n",
       "      <th></th>\n",
       "      <th>A</th>\n",
       "      <th>B</th>\n",
       "      <th>C</th>\n",
       "    </tr>\n",
       "  </thead>\n",
       "  <tbody>\n",
       "    <tr>\n",
       "      <th>0</th>\n",
       "      <td>1.0</td>\n",
       "      <td>5.0</td>\n",
       "      <td>10</td>\n",
       "    </tr>\n",
       "    <tr>\n",
       "      <th>1</th>\n",
       "      <td>2.0</td>\n",
       "      <td>NaN</td>\n",
       "      <td>20</td>\n",
       "    </tr>\n",
       "    <tr>\n",
       "      <th>2</th>\n",
       "      <td>NaN</td>\n",
       "      <td>NaN</td>\n",
       "      <td>30</td>\n",
       "    </tr>\n",
       "    <tr>\n",
       "      <th>3</th>\n",
       "      <td>4.0</td>\n",
       "      <td>8.0</td>\n",
       "      <td>40</td>\n",
       "    </tr>\n",
       "  </tbody>\n",
       "</table>\n",
       "</div>"
      ]
     },
     "execution_count": 19,
     "metadata": {},
     "output_type": "execute_result"
    }
   ],
   "execution_count": 19
  },
  {
   "cell_type": "markdown",
   "id": "45ad7689",
   "metadata": {},
   "source": [
    "## 1) 결측치 확인하기"
   ]
  },
  {
   "cell_type": "code",
   "id": "5a2f10b3",
   "metadata": {
    "ExecuteTime": {
     "end_time": "2024-12-16T13:00:03.715913Z",
     "start_time": "2024-12-16T13:00:03.713493Z"
    }
   },
   "source": [
    "# 전체 데이터셋에서 결측치가 있는지 여부 확인\n",
    "df.isnull().values.any()"
   ],
   "outputs": [
    {
     "data": {
      "text/plain": [
       "np.True_"
      ]
     },
     "execution_count": 20,
     "metadata": {},
     "output_type": "execute_result"
    }
   ],
   "execution_count": 20
  },
  {
   "cell_type": "code",
   "id": "d4967ee1",
   "metadata": {
    "ExecuteTime": {
     "end_time": "2024-12-16T13:29:50.972998Z",
     "start_time": "2024-12-16T13:29:50.969875Z"
    }
   },
   "source": [
    "# 각 열별 결측치 개수\n",
    "df.isnull().sum()"
   ],
   "outputs": [
    {
     "data": {
      "text/plain": [
       "A    1\n",
       "B    2\n",
       "C    0\n",
       "dtype: int64"
      ]
     },
     "execution_count": 37,
     "metadata": {},
     "output_type": "execute_result"
    }
   ],
   "execution_count": 37
  },
  {
   "cell_type": "markdown",
   "id": "ed8443fa",
   "metadata": {},
   "source": [
    "## 2) 결측치 데이터 채우기"
   ]
  },
  {
   "cell_type": "code",
   "id": "26bb1a9b",
   "metadata": {
    "ExecuteTime": {
     "end_time": "2024-12-16T13:00:03.852822Z",
     "start_time": "2024-12-16T13:00:03.848847Z"
    }
   },
   "source": [
    "# 모든 결측치를 0으로 채우기\n",
    "df_filled_zero = df.fillna(0)\n",
    "df_filled_zero"
   ],
   "outputs": [
    {
     "data": {
      "text/plain": [
       "     A    B   C\n",
       "0  1.0  5.0  10\n",
       "1  2.0  0.0  20\n",
       "2  0.0  0.0  30\n",
       "3  4.0  8.0  40"
      ],
      "text/html": [
       "<div>\n",
       "<style scoped>\n",
       "    .dataframe tbody tr th:only-of-type {\n",
       "        vertical-align: middle;\n",
       "    }\n",
       "\n",
       "    .dataframe tbody tr th {\n",
       "        vertical-align: top;\n",
       "    }\n",
       "\n",
       "    .dataframe thead th {\n",
       "        text-align: right;\n",
       "    }\n",
       "</style>\n",
       "<table border=\"1\" class=\"dataframe\">\n",
       "  <thead>\n",
       "    <tr style=\"text-align: right;\">\n",
       "      <th></th>\n",
       "      <th>A</th>\n",
       "      <th>B</th>\n",
       "      <th>C</th>\n",
       "    </tr>\n",
       "  </thead>\n",
       "  <tbody>\n",
       "    <tr>\n",
       "      <th>0</th>\n",
       "      <td>1.0</td>\n",
       "      <td>5.0</td>\n",
       "      <td>10</td>\n",
       "    </tr>\n",
       "    <tr>\n",
       "      <th>1</th>\n",
       "      <td>2.0</td>\n",
       "      <td>0.0</td>\n",
       "      <td>20</td>\n",
       "    </tr>\n",
       "    <tr>\n",
       "      <th>2</th>\n",
       "      <td>0.0</td>\n",
       "      <td>0.0</td>\n",
       "      <td>30</td>\n",
       "    </tr>\n",
       "    <tr>\n",
       "      <th>3</th>\n",
       "      <td>4.0</td>\n",
       "      <td>8.0</td>\n",
       "      <td>40</td>\n",
       "    </tr>\n",
       "  </tbody>\n",
       "</table>\n",
       "</div>"
      ]
     },
     "execution_count": 22,
     "metadata": {},
     "output_type": "execute_result"
    }
   ],
   "execution_count": 22
  },
  {
   "cell_type": "code",
   "id": "195e23fe",
   "metadata": {
    "ExecuteTime": {
     "end_time": "2024-12-16T13:00:03.940959Z",
     "start_time": "2024-12-16T13:00:03.937098Z"
    }
   },
   "source": [
    "# 특정 값으로 결측치 대체하기\n",
    "df_replaced = df.replace(np.nan, -1)\n",
    "df_replaced"
   ],
   "outputs": [
    {
     "data": {
      "text/plain": [
       "     A    B   C\n",
       "0  1.0  5.0  10\n",
       "1  2.0 -1.0  20\n",
       "2 -1.0 -1.0  30\n",
       "3  4.0  8.0  40"
      ],
      "text/html": [
       "<div>\n",
       "<style scoped>\n",
       "    .dataframe tbody tr th:only-of-type {\n",
       "        vertical-align: middle;\n",
       "    }\n",
       "\n",
       "    .dataframe tbody tr th {\n",
       "        vertical-align: top;\n",
       "    }\n",
       "\n",
       "    .dataframe thead th {\n",
       "        text-align: right;\n",
       "    }\n",
       "</style>\n",
       "<table border=\"1\" class=\"dataframe\">\n",
       "  <thead>\n",
       "    <tr style=\"text-align: right;\">\n",
       "      <th></th>\n",
       "      <th>A</th>\n",
       "      <th>B</th>\n",
       "      <th>C</th>\n",
       "    </tr>\n",
       "  </thead>\n",
       "  <tbody>\n",
       "    <tr>\n",
       "      <th>0</th>\n",
       "      <td>1.0</td>\n",
       "      <td>5.0</td>\n",
       "      <td>10</td>\n",
       "    </tr>\n",
       "    <tr>\n",
       "      <th>1</th>\n",
       "      <td>2.0</td>\n",
       "      <td>-1.0</td>\n",
       "      <td>20</td>\n",
       "    </tr>\n",
       "    <tr>\n",
       "      <th>2</th>\n",
       "      <td>-1.0</td>\n",
       "      <td>-1.0</td>\n",
       "      <td>30</td>\n",
       "    </tr>\n",
       "    <tr>\n",
       "      <th>3</th>\n",
       "      <td>4.0</td>\n",
       "      <td>8.0</td>\n",
       "      <td>40</td>\n",
       "    </tr>\n",
       "  </tbody>\n",
       "</table>\n",
       "</div>"
      ]
     },
     "execution_count": 23,
     "metadata": {},
     "output_type": "execute_result"
    }
   ],
   "execution_count": 23
  },
  {
   "cell_type": "code",
   "id": "031816a1",
   "metadata": {
    "ExecuteTime": {
     "end_time": "2024-12-16T13:28:43.304067Z",
     "start_time": "2024-12-16T13:28:43.300079Z"
    }
   },
   "source": [
    "# 결측치를 앞 방향 값으로 채우기\n",
    "df_filled_forward = df.fill()\n",
    "df_filled_forward"
   ],
   "outputs": [
    {
     "data": {
      "text/plain": [
       "     A    B   C\n",
       "0  1.0  5.0  10\n",
       "1  2.0  8.0  20\n",
       "2  4.0  8.0  30\n",
       "3  4.0  8.0  40"
      ],
      "text/html": [
       "<div>\n",
       "<style scoped>\n",
       "    .dataframe tbody tr th:only-of-type {\n",
       "        vertical-align: middle;\n",
       "    }\n",
       "\n",
       "    .dataframe tbody tr th {\n",
       "        vertical-align: top;\n",
       "    }\n",
       "\n",
       "    .dataframe thead th {\n",
       "        text-align: right;\n",
       "    }\n",
       "</style>\n",
       "<table border=\"1\" class=\"dataframe\">\n",
       "  <thead>\n",
       "    <tr style=\"text-align: right;\">\n",
       "      <th></th>\n",
       "      <th>A</th>\n",
       "      <th>B</th>\n",
       "      <th>C</th>\n",
       "    </tr>\n",
       "  </thead>\n",
       "  <tbody>\n",
       "    <tr>\n",
       "      <th>0</th>\n",
       "      <td>1.0</td>\n",
       "      <td>5.0</td>\n",
       "      <td>10</td>\n",
       "    </tr>\n",
       "    <tr>\n",
       "      <th>1</th>\n",
       "      <td>2.0</td>\n",
       "      <td>8.0</td>\n",
       "      <td>20</td>\n",
       "    </tr>\n",
       "    <tr>\n",
       "      <th>2</th>\n",
       "      <td>4.0</td>\n",
       "      <td>8.0</td>\n",
       "      <td>30</td>\n",
       "    </tr>\n",
       "    <tr>\n",
       "      <th>3</th>\n",
       "      <td>4.0</td>\n",
       "      <td>8.0</td>\n",
       "      <td>40</td>\n",
       "    </tr>\n",
       "  </tbody>\n",
       "</table>\n",
       "</div>"
      ]
     },
     "execution_count": 34,
     "metadata": {},
     "output_type": "execute_result"
    }
   ],
   "execution_count": 34
  },
  {
   "cell_type": "code",
   "id": "0bcca8dc",
   "metadata": {
    "ExecuteTime": {
     "end_time": "2024-12-16T13:35:58.997239Z",
     "start_time": "2024-12-16T13:35:58.978064Z"
    }
   },
   "source": [
    "# 결측치를 뒷 방향 값으로 채우기\n",
    "df_filled_backward = df.bfill()\n",
    "df_filled_backward"
   ],
   "outputs": [
    {
     "data": {
      "text/plain": [
       "     A    B   C\n",
       "0  1.0  5.0  10\n",
       "1  2.0  8.0  20\n",
       "2  4.0  8.0  30\n",
       "3  4.0  8.0  40"
      ],
      "text/html": [
       "<div>\n",
       "<style scoped>\n",
       "    .dataframe tbody tr th:only-of-type {\n",
       "        vertical-align: middle;\n",
       "    }\n",
       "\n",
       "    .dataframe tbody tr th {\n",
       "        vertical-align: top;\n",
       "    }\n",
       "\n",
       "    .dataframe thead th {\n",
       "        text-align: right;\n",
       "    }\n",
       "</style>\n",
       "<table border=\"1\" class=\"dataframe\">\n",
       "  <thead>\n",
       "    <tr style=\"text-align: right;\">\n",
       "      <th></th>\n",
       "      <th>A</th>\n",
       "      <th>B</th>\n",
       "      <th>C</th>\n",
       "    </tr>\n",
       "  </thead>\n",
       "  <tbody>\n",
       "    <tr>\n",
       "      <th>0</th>\n",
       "      <td>1.0</td>\n",
       "      <td>5.0</td>\n",
       "      <td>10</td>\n",
       "    </tr>\n",
       "    <tr>\n",
       "      <th>1</th>\n",
       "      <td>2.0</td>\n",
       "      <td>8.0</td>\n",
       "      <td>20</td>\n",
       "    </tr>\n",
       "    <tr>\n",
       "      <th>2</th>\n",
       "      <td>4.0</td>\n",
       "      <td>8.0</td>\n",
       "      <td>30</td>\n",
       "    </tr>\n",
       "    <tr>\n",
       "      <th>3</th>\n",
       "      <td>4.0</td>\n",
       "      <td>8.0</td>\n",
       "      <td>40</td>\n",
       "    </tr>\n",
       "  </tbody>\n",
       "</table>\n",
       "</div>"
      ]
     },
     "execution_count": 38,
     "metadata": {},
     "output_type": "execute_result"
    }
   ],
   "execution_count": 38
  },
  {
   "cell_type": "code",
   "id": "3767556d",
   "metadata": {
    "ExecuteTime": {
     "end_time": "2024-12-16T13:00:04.299395Z",
     "start_time": "2024-12-16T13:00:04.294530Z"
    }
   },
   "source": [
    "# 특정 열의 결측치를 해당 열의 평균값으로 채우기\n",
    "df_filled_mean = df.copy()\n",
    "df_filled_mean[\"B\"] = df_filled_mean[\"B\"].fillna( df_filled_mean[\"B\"].mean() )\n",
    "\n",
    "df_filled_mean"
   ],
   "outputs": [
    {
     "data": {
      "text/plain": [
       "     A    B   C\n",
       "0  1.0  5.0  10\n",
       "1  2.0  6.5  20\n",
       "2  NaN  6.5  30\n",
       "3  4.0  8.0  40"
      ],
      "text/html": [
       "<div>\n",
       "<style scoped>\n",
       "    .dataframe tbody tr th:only-of-type {\n",
       "        vertical-align: middle;\n",
       "    }\n",
       "\n",
       "    .dataframe tbody tr th {\n",
       "        vertical-align: top;\n",
       "    }\n",
       "\n",
       "    .dataframe thead th {\n",
       "        text-align: right;\n",
       "    }\n",
       "</style>\n",
       "<table border=\"1\" class=\"dataframe\">\n",
       "  <thead>\n",
       "    <tr style=\"text-align: right;\">\n",
       "      <th></th>\n",
       "      <th>A</th>\n",
       "      <th>B</th>\n",
       "      <th>C</th>\n",
       "    </tr>\n",
       "  </thead>\n",
       "  <tbody>\n",
       "    <tr>\n",
       "      <th>0</th>\n",
       "      <td>1.0</td>\n",
       "      <td>5.0</td>\n",
       "      <td>10</td>\n",
       "    </tr>\n",
       "    <tr>\n",
       "      <th>1</th>\n",
       "      <td>2.0</td>\n",
       "      <td>6.5</td>\n",
       "      <td>20</td>\n",
       "    </tr>\n",
       "    <tr>\n",
       "      <th>2</th>\n",
       "      <td>NaN</td>\n",
       "      <td>6.5</td>\n",
       "      <td>30</td>\n",
       "    </tr>\n",
       "    <tr>\n",
       "      <th>3</th>\n",
       "      <td>4.0</td>\n",
       "      <td>8.0</td>\n",
       "      <td>40</td>\n",
       "    </tr>\n",
       "  </tbody>\n",
       "</table>\n",
       "</div>"
      ]
     },
     "execution_count": 26,
     "metadata": {},
     "output_type": "execute_result"
    }
   ],
   "execution_count": 26
  },
  {
   "cell_type": "code",
   "id": "4d26873a",
   "metadata": {
    "ExecuteTime": {
     "end_time": "2024-12-16T13:00:04.445971Z",
     "start_time": "2024-12-16T13:00:04.444389Z"
    }
   },
   "source": [],
   "outputs": [],
   "execution_count": null
  },
  {
   "cell_type": "markdown",
   "id": "83da6a37",
   "metadata": {},
   "source": [
    "## 3) 결측치를 보유한 행이나 열 제거"
   ]
  },
  {
   "cell_type": "code",
   "id": "c9fe3037",
   "metadata": {
    "ExecuteTime": {
     "end_time": "2024-12-16T13:00:04.604015Z",
     "start_time": "2024-12-16T13:00:04.599812Z"
    }
   },
   "source": [
    "df = pd.DataFrame({\n",
    "    'A': [1, 2, np.nan, 4],\n",
    "    'B': [5, np.nan, np.nan, 8],\n",
    "    'C': [10, 20, 30, 40]\n",
    "})\n",
    "\n",
    "# A,B열에 결측치(NaN) 데이터기 있음\n",
    "df"
   ],
   "outputs": [
    {
     "data": {
      "text/plain": [
       "     A    B   C\n",
       "0  1.0  5.0  10\n",
       "1  2.0  NaN  20\n",
       "2  NaN  NaN  30\n",
       "3  4.0  8.0  40"
      ],
      "text/html": [
       "<div>\n",
       "<style scoped>\n",
       "    .dataframe tbody tr th:only-of-type {\n",
       "        vertical-align: middle;\n",
       "    }\n",
       "\n",
       "    .dataframe tbody tr th {\n",
       "        vertical-align: top;\n",
       "    }\n",
       "\n",
       "    .dataframe thead th {\n",
       "        text-align: right;\n",
       "    }\n",
       "</style>\n",
       "<table border=\"1\" class=\"dataframe\">\n",
       "  <thead>\n",
       "    <tr style=\"text-align: right;\">\n",
       "      <th></th>\n",
       "      <th>A</th>\n",
       "      <th>B</th>\n",
       "      <th>C</th>\n",
       "    </tr>\n",
       "  </thead>\n",
       "  <tbody>\n",
       "    <tr>\n",
       "      <th>0</th>\n",
       "      <td>1.0</td>\n",
       "      <td>5.0</td>\n",
       "      <td>10</td>\n",
       "    </tr>\n",
       "    <tr>\n",
       "      <th>1</th>\n",
       "      <td>2.0</td>\n",
       "      <td>NaN</td>\n",
       "      <td>20</td>\n",
       "    </tr>\n",
       "    <tr>\n",
       "      <th>2</th>\n",
       "      <td>NaN</td>\n",
       "      <td>NaN</td>\n",
       "      <td>30</td>\n",
       "    </tr>\n",
       "    <tr>\n",
       "      <th>3</th>\n",
       "      <td>4.0</td>\n",
       "      <td>8.0</td>\n",
       "      <td>40</td>\n",
       "    </tr>\n",
       "  </tbody>\n",
       "</table>\n",
       "</div>"
      ]
     },
     "execution_count": 27,
     "metadata": {},
     "output_type": "execute_result"
    }
   ],
   "execution_count": 27
  },
  {
   "cell_type": "code",
   "id": "b98e11e6",
   "metadata": {
    "ExecuteTime": {
     "end_time": "2024-12-16T13:00:04.706437Z",
     "start_time": "2024-12-16T13:00:04.702273Z"
    }
   },
   "source": [
    "# 결측치가 하나라도 있는 행 제거\n",
    "df.dropna()"
   ],
   "outputs": [
    {
     "data": {
      "text/plain": [
       "     A    B   C\n",
       "0  1.0  5.0  10\n",
       "3  4.0  8.0  40"
      ],
      "text/html": [
       "<div>\n",
       "<style scoped>\n",
       "    .dataframe tbody tr th:only-of-type {\n",
       "        vertical-align: middle;\n",
       "    }\n",
       "\n",
       "    .dataframe tbody tr th {\n",
       "        vertical-align: top;\n",
       "    }\n",
       "\n",
       "    .dataframe thead th {\n",
       "        text-align: right;\n",
       "    }\n",
       "</style>\n",
       "<table border=\"1\" class=\"dataframe\">\n",
       "  <thead>\n",
       "    <tr style=\"text-align: right;\">\n",
       "      <th></th>\n",
       "      <th>A</th>\n",
       "      <th>B</th>\n",
       "      <th>C</th>\n",
       "    </tr>\n",
       "  </thead>\n",
       "  <tbody>\n",
       "    <tr>\n",
       "      <th>0</th>\n",
       "      <td>1.0</td>\n",
       "      <td>5.0</td>\n",
       "      <td>10</td>\n",
       "    </tr>\n",
       "    <tr>\n",
       "      <th>3</th>\n",
       "      <td>4.0</td>\n",
       "      <td>8.0</td>\n",
       "      <td>40</td>\n",
       "    </tr>\n",
       "  </tbody>\n",
       "</table>\n",
       "</div>"
      ]
     },
     "execution_count": 28,
     "metadata": {},
     "output_type": "execute_result"
    }
   ],
   "execution_count": 28
  },
  {
   "cell_type": "code",
   "id": "663ea82c",
   "metadata": {
    "ExecuteTime": {
     "end_time": "2024-12-16T13:00:04.824220Z",
     "start_time": "2024-12-16T13:00:04.820682Z"
    }
   },
   "source": [
    "# 결측치가 하나라도 있는 열 제거\n",
    "df.dropna(axis=1)"
   ],
   "outputs": [
    {
     "data": {
      "text/plain": [
       "    C\n",
       "0  10\n",
       "1  20\n",
       "2  30\n",
       "3  40"
      ],
      "text/html": [
       "<div>\n",
       "<style scoped>\n",
       "    .dataframe tbody tr th:only-of-type {\n",
       "        vertical-align: middle;\n",
       "    }\n",
       "\n",
       "    .dataframe tbody tr th {\n",
       "        vertical-align: top;\n",
       "    }\n",
       "\n",
       "    .dataframe thead th {\n",
       "        text-align: right;\n",
       "    }\n",
       "</style>\n",
       "<table border=\"1\" class=\"dataframe\">\n",
       "  <thead>\n",
       "    <tr style=\"text-align: right;\">\n",
       "      <th></th>\n",
       "      <th>C</th>\n",
       "    </tr>\n",
       "  </thead>\n",
       "  <tbody>\n",
       "    <tr>\n",
       "      <th>0</th>\n",
       "      <td>10</td>\n",
       "    </tr>\n",
       "    <tr>\n",
       "      <th>1</th>\n",
       "      <td>20</td>\n",
       "    </tr>\n",
       "    <tr>\n",
       "      <th>2</th>\n",
       "      <td>30</td>\n",
       "    </tr>\n",
       "    <tr>\n",
       "      <th>3</th>\n",
       "      <td>40</td>\n",
       "    </tr>\n",
       "  </tbody>\n",
       "</table>\n",
       "</div>"
      ]
     },
     "execution_count": 29,
     "metadata": {},
     "output_type": "execute_result"
    }
   ],
   "execution_count": 29
  },
  {
   "cell_type": "code",
   "id": "830bd5c6",
   "metadata": {
    "ExecuteTime": {
     "end_time": "2024-12-16T13:00:04.959754Z",
     "start_time": "2024-12-16T13:00:04.952590Z"
    }
   },
   "source": [
    "# index를 기반으로 제거\n",
    "df.drop(index=[1,2])"
   ],
   "outputs": [
    {
     "data": {
      "text/plain": [
       "     A    B   C\n",
       "0  1.0  5.0  10\n",
       "3  4.0  8.0  40"
      ],
      "text/html": [
       "<div>\n",
       "<style scoped>\n",
       "    .dataframe tbody tr th:only-of-type {\n",
       "        vertical-align: middle;\n",
       "    }\n",
       "\n",
       "    .dataframe tbody tr th {\n",
       "        vertical-align: top;\n",
       "    }\n",
       "\n",
       "    .dataframe thead th {\n",
       "        text-align: right;\n",
       "    }\n",
       "</style>\n",
       "<table border=\"1\" class=\"dataframe\">\n",
       "  <thead>\n",
       "    <tr style=\"text-align: right;\">\n",
       "      <th></th>\n",
       "      <th>A</th>\n",
       "      <th>B</th>\n",
       "      <th>C</th>\n",
       "    </tr>\n",
       "  </thead>\n",
       "  <tbody>\n",
       "    <tr>\n",
       "      <th>0</th>\n",
       "      <td>1.0</td>\n",
       "      <td>5.0</td>\n",
       "      <td>10</td>\n",
       "    </tr>\n",
       "    <tr>\n",
       "      <th>3</th>\n",
       "      <td>4.0</td>\n",
       "      <td>8.0</td>\n",
       "      <td>40</td>\n",
       "    </tr>\n",
       "  </tbody>\n",
       "</table>\n",
       "</div>"
      ]
     },
     "execution_count": 30,
     "metadata": {},
     "output_type": "execute_result"
    }
   ],
   "execution_count": 30
  }
 ],
 "metadata": {
  "celltoolbar": "Slideshow",
  "kernelspec": {
   "display_name": "Python 3 (ipykernel)",
   "language": "python",
   "name": "python3"
  },
  "language_info": {
   "codemirror_mode": {
    "name": "ipython",
    "version": 3
   },
   "file_extension": ".py",
   "mimetype": "text/x-python",
   "name": "python",
   "nbconvert_exporter": "python",
   "pygments_lexer": "ipython3",
   "version": "3.8.19"
  }
 },
 "nbformat": 4,
 "nbformat_minor": 5
}
