{
 "cells": [
  {
   "cell_type": "markdown",
   "id": "04d97a2c",
   "metadata": {
    "slideshow": {
     "slide_type": "slide"
    }
   },
   "source": [
    "# 1. pandas란?\n",
    "\n",
    "## (1) pandas\n",
    "- Pandas는 Open source project로써, Python 데이터 분석을 돕기 위한 library이다.\n",
    "- 행과 열로 구성된 2차원 데이터 구조인 **DataFrame**을 사용하며, 대용량 데이터를 처리하는데 매우 편리하다.\n",
    "- 커뮤니티 및 관련 정보는 아래 사이트에서 확인 가능하다.\n",
    "    - Homepage : https://pandas.pydata.org\n",
    "    - Github : https://github.com/pydata/pandas\n",
    "\n"
   ]
  },
  {
   "cell_type": "markdown",
   "id": "9d0a9b8c",
   "metadata": {
    "slideshow": {
     "slide_type": "subslide"
    }
   },
   "source": [
    "## (2) 설치 및 import\n",
    "- Pandas는 Anaconda prompt에 아래 명령어를 입력하여 설치할 수 있다.\n",
    "```bash\n",
    "    pip3 install pandas\n",
    "    pip install pandas\n",
    "```\n",
    "\n"
   ]
  },
  {
   "cell_type": "code",
   "id": "9c94540c",
   "metadata": {
    "ExecuteTime": {
     "end_time": "2024-12-09T13:42:09.398549Z",
     "start_time": "2024-12-09T13:42:08.149631Z"
    }
   },
   "source": [
    "# !는 jupyter magic keyword로 pip install 등의 커맨드를 실행할 때 사용된다.\n",
    "!pip install pandas"
   ],
   "outputs": [
    {
     "name": "stdout",
     "output_type": "stream",
     "text": [
      "Requirement already satisfied: pandas in /Users/robin/PycharmProjects/StockAutoTrading/venv/lib/python3.12/site-packages (2.2.3)\r\n",
      "Requirement already satisfied: numpy>=1.26.0 in /Users/robin/PycharmProjects/StockAutoTrading/venv/lib/python3.12/site-packages (from pandas) (2.2.0)\r\n",
      "Requirement already satisfied: python-dateutil>=2.8.2 in /Users/robin/PycharmProjects/StockAutoTrading/venv/lib/python3.12/site-packages (from pandas) (2.9.0.post0)\r\n",
      "Requirement already satisfied: pytz>=2020.1 in /Users/robin/PycharmProjects/StockAutoTrading/venv/lib/python3.12/site-packages (from pandas) (2024.2)\r\n",
      "Requirement already satisfied: tzdata>=2022.7 in /Users/robin/PycharmProjects/StockAutoTrading/venv/lib/python3.12/site-packages (from pandas) (2024.2)\r\n",
      "Requirement already satisfied: six>=1.5 in /Users/robin/PycharmProjects/StockAutoTrading/venv/lib/python3.12/site-packages (from python-dateutil>=2.8.2->pandas) (1.17.0)\r\n",
      "\r\n",
      "\u001B[1m[\u001B[0m\u001B[34;49mnotice\u001B[0m\u001B[1;39;49m]\u001B[0m\u001B[39;49m A new release of pip is available: \u001B[0m\u001B[31;49m23.2.1\u001B[0m\u001B[39;49m -> \u001B[0m\u001B[32;49m24.3.1\u001B[0m\r\n",
      "\u001B[1m[\u001B[0m\u001B[34;49mnotice\u001B[0m\u001B[1;39;49m]\u001B[0m\u001B[39;49m To update, run: \u001B[0m\u001B[32;49mpip install --upgrade pip\u001B[0m\r\n"
     ]
    }
   ],
   "execution_count": 8
  },
  {
   "cell_type": "markdown",
   "id": "b53e79b6",
   "metadata": {},
   "source": [
    "- 보편적으로 Pandas는 pd로 줄여 쓰므로, 아래와 같이 import하는 경우가 많다.\n",
    "\n",
    "```python\n",
    "    import pandas as pd\n",
    "```\n"
   ]
  },
  {
   "cell_type": "code",
   "id": "66dd948f",
   "metadata": {
    "ExecuteTime": {
     "end_time": "2024-12-15T13:24:52.603114Z",
     "start_time": "2024-12-15T13:24:51.921690Z"
    }
   },
   "source": [
    "import pandas as pd"
   ],
   "outputs": [],
   "execution_count": 2
  },
  {
   "cell_type": "markdown",
   "id": "52f902aa",
   "metadata": {},
   "source": [
    "---"
   ]
  },
  {
   "cell_type": "markdown",
   "id": "7769c72d",
   "metadata": {},
   "source": [
    "# 2. pandas 기초"
   ]
  },
  {
   "cell_type": "markdown",
   "id": "281da41a",
   "metadata": {},
   "source": [
    "## (1) DataFrame 만들기\n",
    "\n",
    "### 1) DataFrame 생성\n",
    "- Pandas의 DataFrame은 CSV, EXCEL에서 불러오기 뿐만 아니라, 직접 생성도 가능하다. \n",
    "- 리스트, 딕셔너리 등을 통해 DataFrame을 생성할 수 있다"
   ]
  },
  {
   "cell_type": "code",
   "id": "74d994b6",
   "metadata": {
    "ExecuteTime": {
     "end_time": "2024-12-09T13:42:09.423602Z",
     "start_time": "2024-12-09T13:42:09.416167Z"
    }
   },
   "source": [
    "# DataFrame 만드는 방법\n",
    "\n",
    "import pandas as pd\n",
    "\n",
    "df = pd.DataFrame()\n",
    "df[\"Name\"] = [\"Jacky\", \"Steven\", \"George\"]\n",
    "df[\"Age\"] = [38, 25, 23]\n",
    "df[\"Driver\"] = [True, False, True]\n",
    "\n",
    "\n",
    "df"
   ],
   "outputs": [
    {
     "data": {
      "text/plain": [
       "     Name  Age  Driver\n",
       "0   Jacky   38    True\n",
       "1  Steven   25   False\n",
       "2  George   23    True"
      ],
      "text/html": [
       "<div>\n",
       "<style scoped>\n",
       "    .dataframe tbody tr th:only-of-type {\n",
       "        vertical-align: middle;\n",
       "    }\n",
       "\n",
       "    .dataframe tbody tr th {\n",
       "        vertical-align: top;\n",
       "    }\n",
       "\n",
       "    .dataframe thead th {\n",
       "        text-align: right;\n",
       "    }\n",
       "</style>\n",
       "<table border=\"1\" class=\"dataframe\">\n",
       "  <thead>\n",
       "    <tr style=\"text-align: right;\">\n",
       "      <th></th>\n",
       "      <th>Name</th>\n",
       "      <th>Age</th>\n",
       "      <th>Driver</th>\n",
       "    </tr>\n",
       "  </thead>\n",
       "  <tbody>\n",
       "    <tr>\n",
       "      <th>0</th>\n",
       "      <td>Jacky</td>\n",
       "      <td>38</td>\n",
       "      <td>True</td>\n",
       "    </tr>\n",
       "    <tr>\n",
       "      <th>1</th>\n",
       "      <td>Steven</td>\n",
       "      <td>25</td>\n",
       "      <td>False</td>\n",
       "    </tr>\n",
       "    <tr>\n",
       "      <th>2</th>\n",
       "      <td>George</td>\n",
       "      <td>23</td>\n",
       "      <td>True</td>\n",
       "    </tr>\n",
       "  </tbody>\n",
       "</table>\n",
       "</div>"
      ]
     },
     "execution_count": 10,
     "metadata": {},
     "output_type": "execute_result"
    }
   ],
   "execution_count": 10
  },
  {
   "cell_type": "code",
   "id": "0c63b145",
   "metadata": {
    "ExecuteTime": {
     "end_time": "2024-12-09T13:42:09.458914Z",
     "start_time": "2024-12-09T13:42:09.454087Z"
    }
   },
   "source": [
    "# python dictionary를 사용하여 DataFrame 만드는 방법\n",
    "\n",
    "data = {\n",
    "    \"Name\":[\"Jacky\", \"Steven\", \"George\"],\n",
    "    \"Age\":[38, 25, 23],\n",
    "    \"Driver\":[True, False, True]\n",
    "}\n",
    "\n",
    "df = pd.DataFrame(data)\n",
    "df"
   ],
   "outputs": [
    {
     "data": {
      "text/plain": [
       "     Name  Age  Driver\n",
       "0   Jacky   38    True\n",
       "1  Steven   25   False\n",
       "2  George   23    True"
      ],
      "text/html": [
       "<div>\n",
       "<style scoped>\n",
       "    .dataframe tbody tr th:only-of-type {\n",
       "        vertical-align: middle;\n",
       "    }\n",
       "\n",
       "    .dataframe tbody tr th {\n",
       "        vertical-align: top;\n",
       "    }\n",
       "\n",
       "    .dataframe thead th {\n",
       "        text-align: right;\n",
       "    }\n",
       "</style>\n",
       "<table border=\"1\" class=\"dataframe\">\n",
       "  <thead>\n",
       "    <tr style=\"text-align: right;\">\n",
       "      <th></th>\n",
       "      <th>Name</th>\n",
       "      <th>Age</th>\n",
       "      <th>Driver</th>\n",
       "    </tr>\n",
       "  </thead>\n",
       "  <tbody>\n",
       "    <tr>\n",
       "      <th>0</th>\n",
       "      <td>Jacky</td>\n",
       "      <td>38</td>\n",
       "      <td>True</td>\n",
       "    </tr>\n",
       "    <tr>\n",
       "      <th>1</th>\n",
       "      <td>Steven</td>\n",
       "      <td>25</td>\n",
       "      <td>False</td>\n",
       "    </tr>\n",
       "    <tr>\n",
       "      <th>2</th>\n",
       "      <td>George</td>\n",
       "      <td>23</td>\n",
       "      <td>True</td>\n",
       "    </tr>\n",
       "  </tbody>\n",
       "</table>\n",
       "</div>"
      ]
     },
     "execution_count": 11,
     "metadata": {},
     "output_type": "execute_result"
    }
   ],
   "execution_count": 11
  },
  {
   "cell_type": "markdown",
   "id": "18aaae2a",
   "metadata": {},
   "source": [
    "### 2) DataFrame 구성요소\n",
    "\n",
    "#### 1. **DataFrame**: \n",
    "   - DataFrame은 엑셀 스프레드시트나 SQL 테이블과 유사한 2차원 데이터 구조입니다.\n",
    "   - 행과 열로 구성되어 있으며, 각 열은 서로 다른 데이터 타입(숫자, 문자열, 불리언 등)을 가질 수 있습니다.\n",
    "   - 각 행과 열에는 고유한 라벨이 할당될 수 있으며, 이를 인덱스(Index)라고 합니다.\n",
    "#### 2. **Series**: \n",
    "   - Series는 1차원 형태의 데이터 구조입니다.\n",
    "       - DataFrame의 각 열(column)은 Series 객체로 구성되어 있음\n",
    "   - Series에도 인덱스가 있으며, 이를 통해 각각의 데이터에 접근할 수 있습니다.\n",
    "#### 3. **Index**:\n",
    "   - DataFrame 및 Series 객체의 행 레이블을 나타냅니다. 각 행 또는 열에 대한 고유한 식별자 역할을 합니다."
   ]
  },
  {
   "cell_type": "code",
   "id": "0939696a",
   "metadata": {
    "ExecuteTime": {
     "end_time": "2024-12-09T13:42:09.549390Z",
     "start_time": "2024-12-09T13:42:09.543607Z"
    }
   },
   "source": [
    "df = pd.DataFrame()\n",
    "df[\"Name\"] = [\"Jacky\", \"Steven\", \"George\"]\n",
    "df[\"Age\"] = [38, 25, 23]\n",
    "df[\"Driver\"] = [True, False, True]\n",
    "\n",
    "\n",
    "df"
   ],
   "outputs": [
    {
     "data": {
      "text/plain": [
       "     Name  Age  Driver\n",
       "0   Jacky   38    True\n",
       "1  Steven   25   False\n",
       "2  George   23    True"
      ],
      "text/html": [
       "<div>\n",
       "<style scoped>\n",
       "    .dataframe tbody tr th:only-of-type {\n",
       "        vertical-align: middle;\n",
       "    }\n",
       "\n",
       "    .dataframe tbody tr th {\n",
       "        vertical-align: top;\n",
       "    }\n",
       "\n",
       "    .dataframe thead th {\n",
       "        text-align: right;\n",
       "    }\n",
       "</style>\n",
       "<table border=\"1\" class=\"dataframe\">\n",
       "  <thead>\n",
       "    <tr style=\"text-align: right;\">\n",
       "      <th></th>\n",
       "      <th>Name</th>\n",
       "      <th>Age</th>\n",
       "      <th>Driver</th>\n",
       "    </tr>\n",
       "  </thead>\n",
       "  <tbody>\n",
       "    <tr>\n",
       "      <th>0</th>\n",
       "      <td>Jacky</td>\n",
       "      <td>38</td>\n",
       "      <td>True</td>\n",
       "    </tr>\n",
       "    <tr>\n",
       "      <th>1</th>\n",
       "      <td>Steven</td>\n",
       "      <td>25</td>\n",
       "      <td>False</td>\n",
       "    </tr>\n",
       "    <tr>\n",
       "      <th>2</th>\n",
       "      <td>George</td>\n",
       "      <td>23</td>\n",
       "      <td>True</td>\n",
       "    </tr>\n",
       "  </tbody>\n",
       "</table>\n",
       "</div>"
      ]
     },
     "execution_count": 12,
     "metadata": {},
     "output_type": "execute_result"
    }
   ],
   "execution_count": 12
  },
  {
   "cell_type": "code",
   "id": "6a64f849",
   "metadata": {
    "ExecuteTime": {
     "end_time": "2024-12-09T13:42:09.651915Z",
     "start_time": "2024-12-09T13:42:09.648948Z"
    }
   },
   "source": [
    "# 각 Series는 index를 포함하고 있음\n",
    "df[\"Age\"]"
   ],
   "outputs": [
    {
     "data": {
      "text/plain": [
       "0    38\n",
       "1    25\n",
       "2    23\n",
       "Name: Age, dtype: int64"
      ]
     },
     "execution_count": 13,
     "metadata": {},
     "output_type": "execute_result"
    }
   ],
   "execution_count": 13
  },
  {
   "cell_type": "code",
   "id": "c313b637",
   "metadata": {
    "ExecuteTime": {
     "end_time": "2024-12-09T13:42:09.852755Z",
     "start_time": "2024-12-09T13:42:09.839856Z"
    }
   },
   "source": [
    "print( type(df) ) \n",
    "print( type(df[\"Age\"]) )"
   ],
   "outputs": [
    {
     "name": "stdout",
     "output_type": "stream",
     "text": [
      "<class 'pandas.core.frame.DataFrame'>\n",
      "<class 'pandas.core.series.Series'>\n"
     ]
    }
   ],
   "execution_count": 14
  },
  {
   "cell_type": "code",
   "id": "48835d99",
   "metadata": {
    "ExecuteTime": {
     "end_time": "2024-12-09T13:42:10.020449Z",
     "start_time": "2024-12-09T13:42:10.018938Z"
    }
   },
   "source": [],
   "outputs": [],
   "execution_count": null
  },
  {
   "cell_type": "code",
   "id": "c16db0e3",
   "metadata": {
    "ExecuteTime": {
     "end_time": "2024-12-09T13:42:10.101043Z",
     "start_time": "2024-12-09T13:42:10.098264Z"
    }
   },
   "source": [
    "# dataframe index에 접근하기\n",
    "df.index"
   ],
   "outputs": [
    {
     "data": {
      "text/plain": [
       "RangeIndex(start=0, stop=3, step=1)"
      ]
     },
     "execution_count": 15,
     "metadata": {},
     "output_type": "execute_result"
    }
   ],
   "execution_count": 15
  },
  {
   "cell_type": "code",
   "id": "af061faf",
   "metadata": {
    "ExecuteTime": {
     "end_time": "2024-12-09T13:42:10.180600Z",
     "start_time": "2024-12-09T13:42:10.178248Z"
    }
   },
   "source": [
    "# index 이름 설정하기\n",
    "df.index.name = \"index\""
   ],
   "outputs": [],
   "execution_count": 16
  },
  {
   "cell_type": "code",
   "id": "2f9be2fc",
   "metadata": {
    "ExecuteTime": {
     "end_time": "2024-12-09T13:42:10.216234Z",
     "start_time": "2024-12-09T13:42:10.211353Z"
    }
   },
   "source": [
    "df"
   ],
   "outputs": [
    {
     "data": {
      "text/plain": [
       "         Name  Age  Driver\n",
       "index                     \n",
       "0       Jacky   38    True\n",
       "1      Steven   25   False\n",
       "2      George   23    True"
      ],
      "text/html": [
       "<div>\n",
       "<style scoped>\n",
       "    .dataframe tbody tr th:only-of-type {\n",
       "        vertical-align: middle;\n",
       "    }\n",
       "\n",
       "    .dataframe tbody tr th {\n",
       "        vertical-align: top;\n",
       "    }\n",
       "\n",
       "    .dataframe thead th {\n",
       "        text-align: right;\n",
       "    }\n",
       "</style>\n",
       "<table border=\"1\" class=\"dataframe\">\n",
       "  <thead>\n",
       "    <tr style=\"text-align: right;\">\n",
       "      <th></th>\n",
       "      <th>Name</th>\n",
       "      <th>Age</th>\n",
       "      <th>Driver</th>\n",
       "    </tr>\n",
       "    <tr>\n",
       "      <th>index</th>\n",
       "      <th></th>\n",
       "      <th></th>\n",
       "      <th></th>\n",
       "    </tr>\n",
       "  </thead>\n",
       "  <tbody>\n",
       "    <tr>\n",
       "      <th>0</th>\n",
       "      <td>Jacky</td>\n",
       "      <td>38</td>\n",
       "      <td>True</td>\n",
       "    </tr>\n",
       "    <tr>\n",
       "      <th>1</th>\n",
       "      <td>Steven</td>\n",
       "      <td>25</td>\n",
       "      <td>False</td>\n",
       "    </tr>\n",
       "    <tr>\n",
       "      <th>2</th>\n",
       "      <td>George</td>\n",
       "      <td>23</td>\n",
       "      <td>True</td>\n",
       "    </tr>\n",
       "  </tbody>\n",
       "</table>\n",
       "</div>"
      ]
     },
     "execution_count": 17,
     "metadata": {},
     "output_type": "execute_result"
    }
   ],
   "execution_count": 17
  },
  {
   "cell_type": "code",
   "id": "d2436416",
   "metadata": {
    "ExecuteTime": {
     "end_time": "2024-12-09T13:42:10.267395Z",
     "start_time": "2024-12-09T13:42:10.261830Z"
    }
   },
   "source": [
    "# index 재설정\n",
    "# 원래 있었던 index열이 새로운 column으로 들어오고, 새로운 index열이 생김\n",
    "\n",
    "df.reset_index()"
   ],
   "outputs": [
    {
     "data": {
      "text/plain": [
       "   index    Name  Age  Driver\n",
       "0      0   Jacky   38    True\n",
       "1      1  Steven   25   False\n",
       "2      2  George   23    True"
      ],
      "text/html": [
       "<div>\n",
       "<style scoped>\n",
       "    .dataframe tbody tr th:only-of-type {\n",
       "        vertical-align: middle;\n",
       "    }\n",
       "\n",
       "    .dataframe tbody tr th {\n",
       "        vertical-align: top;\n",
       "    }\n",
       "\n",
       "    .dataframe thead th {\n",
       "        text-align: right;\n",
       "    }\n",
       "</style>\n",
       "<table border=\"1\" class=\"dataframe\">\n",
       "  <thead>\n",
       "    <tr style=\"text-align: right;\">\n",
       "      <th></th>\n",
       "      <th>index</th>\n",
       "      <th>Name</th>\n",
       "      <th>Age</th>\n",
       "      <th>Driver</th>\n",
       "    </tr>\n",
       "  </thead>\n",
       "  <tbody>\n",
       "    <tr>\n",
       "      <th>0</th>\n",
       "      <td>0</td>\n",
       "      <td>Jacky</td>\n",
       "      <td>38</td>\n",
       "      <td>True</td>\n",
       "    </tr>\n",
       "    <tr>\n",
       "      <th>1</th>\n",
       "      <td>1</td>\n",
       "      <td>Steven</td>\n",
       "      <td>25</td>\n",
       "      <td>False</td>\n",
       "    </tr>\n",
       "    <tr>\n",
       "      <th>2</th>\n",
       "      <td>2</td>\n",
       "      <td>George</td>\n",
       "      <td>23</td>\n",
       "      <td>True</td>\n",
       "    </tr>\n",
       "  </tbody>\n",
       "</table>\n",
       "</div>"
      ]
     },
     "execution_count": 18,
     "metadata": {},
     "output_type": "execute_result"
    }
   ],
   "execution_count": 18
  },
  {
   "cell_type": "code",
   "id": "a9a9a04c",
   "metadata": {
    "ExecuteTime": {
     "end_time": "2024-12-09T13:42:10.346598Z",
     "start_time": "2024-12-09T13:42:10.344308Z"
    }
   },
   "source": [],
   "outputs": [],
   "execution_count": null
  },
  {
   "cell_type": "markdown",
   "id": "d8fd1823",
   "metadata": {},
   "source": [
    "## (2) DataFrame 데이터 다루기\n",
    "### 1) column 추가, 수정, 삭제\n"
   ]
  },
  {
   "cell_type": "code",
   "id": "2c5f4a5e",
   "metadata": {
    "ExecuteTime": {
     "end_time": "2024-12-09T13:42:10.450709Z",
     "start_time": "2024-12-09T13:42:10.445092Z"
    }
   },
   "source": [
    "data = {\n",
    "    \"Name\":[\"Jacky\", \"Steven\", \"George\"],\n",
    "    \"Age\":[38, 25, 23],\n",
    "    \"Driver\":[True, False, True]\n",
    "}\n",
    "df = pd.DataFrame(data)\n",
    "df.index = [\"a\", \"b\", \"c\"]\n",
    "df.index.name = \"index\"\n",
    "\n",
    "df"
   ],
   "outputs": [
    {
     "data": {
      "text/plain": [
       "         Name  Age  Driver\n",
       "index                     \n",
       "a       Jacky   38    True\n",
       "b      Steven   25   False\n",
       "c      George   23    True"
      ],
      "text/html": [
       "<div>\n",
       "<style scoped>\n",
       "    .dataframe tbody tr th:only-of-type {\n",
       "        vertical-align: middle;\n",
       "    }\n",
       "\n",
       "    .dataframe tbody tr th {\n",
       "        vertical-align: top;\n",
       "    }\n",
       "\n",
       "    .dataframe thead th {\n",
       "        text-align: right;\n",
       "    }\n",
       "</style>\n",
       "<table border=\"1\" class=\"dataframe\">\n",
       "  <thead>\n",
       "    <tr style=\"text-align: right;\">\n",
       "      <th></th>\n",
       "      <th>Name</th>\n",
       "      <th>Age</th>\n",
       "      <th>Driver</th>\n",
       "    </tr>\n",
       "    <tr>\n",
       "      <th>index</th>\n",
       "      <th></th>\n",
       "      <th></th>\n",
       "      <th></th>\n",
       "    </tr>\n",
       "  </thead>\n",
       "  <tbody>\n",
       "    <tr>\n",
       "      <th>a</th>\n",
       "      <td>Jacky</td>\n",
       "      <td>38</td>\n",
       "      <td>True</td>\n",
       "    </tr>\n",
       "    <tr>\n",
       "      <th>b</th>\n",
       "      <td>Steven</td>\n",
       "      <td>25</td>\n",
       "      <td>False</td>\n",
       "    </tr>\n",
       "    <tr>\n",
       "      <th>c</th>\n",
       "      <td>George</td>\n",
       "      <td>23</td>\n",
       "      <td>True</td>\n",
       "    </tr>\n",
       "  </tbody>\n",
       "</table>\n",
       "</div>"
      ]
     },
     "execution_count": 19,
     "metadata": {},
     "output_type": "execute_result"
    }
   ],
   "execution_count": 19
  },
  {
   "cell_type": "code",
   "id": "82d0e103",
   "metadata": {
    "ExecuteTime": {
     "end_time": "2024-12-09T13:42:10.553754Z",
     "start_time": "2024-12-09T13:42:10.548466Z"
    }
   },
   "source": [
    "# 새로운 column 데이터 추가하기\n",
    "df[\"Location\"] = [\"Area 1\", \"Area 2\", \"Area 3\"]\n",
    "df"
   ],
   "outputs": [
    {
     "data": {
      "text/plain": [
       "         Name  Age  Driver Location\n",
       "index                              \n",
       "a       Jacky   38    True   Area 1\n",
       "b      Steven   25   False   Area 2\n",
       "c      George   23    True   Area 3"
      ],
      "text/html": [
       "<div>\n",
       "<style scoped>\n",
       "    .dataframe tbody tr th:only-of-type {\n",
       "        vertical-align: middle;\n",
       "    }\n",
       "\n",
       "    .dataframe tbody tr th {\n",
       "        vertical-align: top;\n",
       "    }\n",
       "\n",
       "    .dataframe thead th {\n",
       "        text-align: right;\n",
       "    }\n",
       "</style>\n",
       "<table border=\"1\" class=\"dataframe\">\n",
       "  <thead>\n",
       "    <tr style=\"text-align: right;\">\n",
       "      <th></th>\n",
       "      <th>Name</th>\n",
       "      <th>Age</th>\n",
       "      <th>Driver</th>\n",
       "      <th>Location</th>\n",
       "    </tr>\n",
       "    <tr>\n",
       "      <th>index</th>\n",
       "      <th></th>\n",
       "      <th></th>\n",
       "      <th></th>\n",
       "      <th></th>\n",
       "    </tr>\n",
       "  </thead>\n",
       "  <tbody>\n",
       "    <tr>\n",
       "      <th>a</th>\n",
       "      <td>Jacky</td>\n",
       "      <td>38</td>\n",
       "      <td>True</td>\n",
       "      <td>Area 1</td>\n",
       "    </tr>\n",
       "    <tr>\n",
       "      <th>b</th>\n",
       "      <td>Steven</td>\n",
       "      <td>25</td>\n",
       "      <td>False</td>\n",
       "      <td>Area 2</td>\n",
       "    </tr>\n",
       "    <tr>\n",
       "      <th>c</th>\n",
       "      <td>George</td>\n",
       "      <td>23</td>\n",
       "      <td>True</td>\n",
       "      <td>Area 3</td>\n",
       "    </tr>\n",
       "  </tbody>\n",
       "</table>\n",
       "</div>"
      ]
     },
     "execution_count": 20,
     "metadata": {},
     "output_type": "execute_result"
    }
   ],
   "execution_count": 20
  },
  {
   "cell_type": "code",
   "id": "e8bd30db",
   "metadata": {
    "ExecuteTime": {
     "end_time": "2024-12-09T13:42:10.695268Z",
     "start_time": "2024-12-09T13:42:10.687765Z"
    }
   },
   "source": [
    "# column 이름 변경하기\n",
    "df = df.rename(columns={\"Name\":\"Person\"})\n",
    "df"
   ],
   "outputs": [
    {
     "data": {
      "text/plain": [
       "       Person  Age  Driver Location\n",
       "index                              \n",
       "a       Jacky   38    True   Area 1\n",
       "b      Steven   25   False   Area 2\n",
       "c      George   23    True   Area 3"
      ],
      "text/html": [
       "<div>\n",
       "<style scoped>\n",
       "    .dataframe tbody tr th:only-of-type {\n",
       "        vertical-align: middle;\n",
       "    }\n",
       "\n",
       "    .dataframe tbody tr th {\n",
       "        vertical-align: top;\n",
       "    }\n",
       "\n",
       "    .dataframe thead th {\n",
       "        text-align: right;\n",
       "    }\n",
       "</style>\n",
       "<table border=\"1\" class=\"dataframe\">\n",
       "  <thead>\n",
       "    <tr style=\"text-align: right;\">\n",
       "      <th></th>\n",
       "      <th>Person</th>\n",
       "      <th>Age</th>\n",
       "      <th>Driver</th>\n",
       "      <th>Location</th>\n",
       "    </tr>\n",
       "    <tr>\n",
       "      <th>index</th>\n",
       "      <th></th>\n",
       "      <th></th>\n",
       "      <th></th>\n",
       "      <th></th>\n",
       "    </tr>\n",
       "  </thead>\n",
       "  <tbody>\n",
       "    <tr>\n",
       "      <th>a</th>\n",
       "      <td>Jacky</td>\n",
       "      <td>38</td>\n",
       "      <td>True</td>\n",
       "      <td>Area 1</td>\n",
       "    </tr>\n",
       "    <tr>\n",
       "      <th>b</th>\n",
       "      <td>Steven</td>\n",
       "      <td>25</td>\n",
       "      <td>False</td>\n",
       "      <td>Area 2</td>\n",
       "    </tr>\n",
       "    <tr>\n",
       "      <th>c</th>\n",
       "      <td>George</td>\n",
       "      <td>23</td>\n",
       "      <td>True</td>\n",
       "      <td>Area 3</td>\n",
       "    </tr>\n",
       "  </tbody>\n",
       "</table>\n",
       "</div>"
      ]
     },
     "execution_count": 21,
     "metadata": {},
     "output_type": "execute_result"
    }
   ],
   "execution_count": 21
  },
  {
   "cell_type": "code",
   "id": "4078c4c2",
   "metadata": {
    "ExecuteTime": {
     "end_time": "2024-12-09T13:42:10.848347Z",
     "start_time": "2024-12-09T13:42:10.839587Z"
    }
   },
   "source": [
    "# column 삭제하기\n",
    "df = df.drop(columns=\"Location\")\n",
    "df"
   ],
   "outputs": [
    {
     "data": {
      "text/plain": [
       "       Person  Age  Driver\n",
       "index                     \n",
       "a       Jacky   38    True\n",
       "b      Steven   25   False\n",
       "c      George   23    True"
      ],
      "text/html": [
       "<div>\n",
       "<style scoped>\n",
       "    .dataframe tbody tr th:only-of-type {\n",
       "        vertical-align: middle;\n",
       "    }\n",
       "\n",
       "    .dataframe tbody tr th {\n",
       "        vertical-align: top;\n",
       "    }\n",
       "\n",
       "    .dataframe thead th {\n",
       "        text-align: right;\n",
       "    }\n",
       "</style>\n",
       "<table border=\"1\" class=\"dataframe\">\n",
       "  <thead>\n",
       "    <tr style=\"text-align: right;\">\n",
       "      <th></th>\n",
       "      <th>Person</th>\n",
       "      <th>Age</th>\n",
       "      <th>Driver</th>\n",
       "    </tr>\n",
       "    <tr>\n",
       "      <th>index</th>\n",
       "      <th></th>\n",
       "      <th></th>\n",
       "      <th></th>\n",
       "    </tr>\n",
       "  </thead>\n",
       "  <tbody>\n",
       "    <tr>\n",
       "      <th>a</th>\n",
       "      <td>Jacky</td>\n",
       "      <td>38</td>\n",
       "      <td>True</td>\n",
       "    </tr>\n",
       "    <tr>\n",
       "      <th>b</th>\n",
       "      <td>Steven</td>\n",
       "      <td>25</td>\n",
       "      <td>False</td>\n",
       "    </tr>\n",
       "    <tr>\n",
       "      <th>c</th>\n",
       "      <td>George</td>\n",
       "      <td>23</td>\n",
       "      <td>True</td>\n",
       "    </tr>\n",
       "  </tbody>\n",
       "</table>\n",
       "</div>"
      ]
     },
     "execution_count": 22,
     "metadata": {},
     "output_type": "execute_result"
    }
   ],
   "execution_count": 22
  },
  {
   "cell_type": "code",
   "id": "3c88025f",
   "metadata": {
    "ExecuteTime": {
     "end_time": "2024-12-09T13:42:10.965989Z",
     "start_time": "2024-12-09T13:42:10.963514Z"
    }
   },
   "source": [],
   "outputs": [],
   "execution_count": null
  },
  {
   "cell_type": "markdown",
   "id": "69d10c2e",
   "metadata": {},
   "source": [
    "### 2) row 데이터 추가"
   ]
  },
  {
   "cell_type": "code",
   "id": "52a4d1c9-1dd2-47f9-b6f9-0b585229f132",
   "metadata": {
    "ExecuteTime": {
     "end_time": "2024-12-09T13:42:11.120266Z",
     "start_time": "2024-12-09T13:42:11.115272Z"
    }
   },
   "source": [
    "data = {\n",
    "    \"Name\":[\"Jacky\", \"Steven\", \"George\"],\n",
    "    \"Age\":[38, 25, 23],\n",
    "    \"Driver\":[True, False, True]\n",
    "}\n",
    "df = pd.DataFrame(data)\n",
    "df.index = [\"a\", \"b\", \"c\"]\n",
    "df.index.name = \"index\"\n",
    "\n",
    "df"
   ],
   "outputs": [
    {
     "data": {
      "text/plain": [
       "         Name  Age  Driver\n",
       "index                     \n",
       "a       Jacky   38    True\n",
       "b      Steven   25   False\n",
       "c      George   23    True"
      ],
      "text/html": [
       "<div>\n",
       "<style scoped>\n",
       "    .dataframe tbody tr th:only-of-type {\n",
       "        vertical-align: middle;\n",
       "    }\n",
       "\n",
       "    .dataframe tbody tr th {\n",
       "        vertical-align: top;\n",
       "    }\n",
       "\n",
       "    .dataframe thead th {\n",
       "        text-align: right;\n",
       "    }\n",
       "</style>\n",
       "<table border=\"1\" class=\"dataframe\">\n",
       "  <thead>\n",
       "    <tr style=\"text-align: right;\">\n",
       "      <th></th>\n",
       "      <th>Name</th>\n",
       "      <th>Age</th>\n",
       "      <th>Driver</th>\n",
       "    </tr>\n",
       "    <tr>\n",
       "      <th>index</th>\n",
       "      <th></th>\n",
       "      <th></th>\n",
       "      <th></th>\n",
       "    </tr>\n",
       "  </thead>\n",
       "  <tbody>\n",
       "    <tr>\n",
       "      <th>a</th>\n",
       "      <td>Jacky</td>\n",
       "      <td>38</td>\n",
       "      <td>True</td>\n",
       "    </tr>\n",
       "    <tr>\n",
       "      <th>b</th>\n",
       "      <td>Steven</td>\n",
       "      <td>25</td>\n",
       "      <td>False</td>\n",
       "    </tr>\n",
       "    <tr>\n",
       "      <th>c</th>\n",
       "      <td>George</td>\n",
       "      <td>23</td>\n",
       "      <td>True</td>\n",
       "    </tr>\n",
       "  </tbody>\n",
       "</table>\n",
       "</div>"
      ]
     },
     "execution_count": 23,
     "metadata": {},
     "output_type": "execute_result"
    }
   ],
   "execution_count": 23
  },
  {
   "cell_type": "code",
   "id": "64abeada",
   "metadata": {
    "ExecuteTime": {
     "end_time": "2024-12-09T13:42:11.290639Z",
     "start_time": "2024-12-09T13:42:11.285254Z"
    }
   },
   "source": [
    "# 새로운 row를 DataFrame 형태로 만들기\n",
    "\n",
    "data = {\n",
    "    \"Name\":[\"Harry\"],\n",
    "    \"Age\":[10],\n",
    "    \"Driver\":[True]\n",
    "}\n",
    "\n",
    "new_df = pd.DataFrame(data, index=[\"d\"])\n",
    "new_df"
   ],
   "outputs": [
    {
     "data": {
      "text/plain": [
       "    Name  Age  Driver\n",
       "d  Harry   10    True"
      ],
      "text/html": [
       "<div>\n",
       "<style scoped>\n",
       "    .dataframe tbody tr th:only-of-type {\n",
       "        vertical-align: middle;\n",
       "    }\n",
       "\n",
       "    .dataframe tbody tr th {\n",
       "        vertical-align: top;\n",
       "    }\n",
       "\n",
       "    .dataframe thead th {\n",
       "        text-align: right;\n",
       "    }\n",
       "</style>\n",
       "<table border=\"1\" class=\"dataframe\">\n",
       "  <thead>\n",
       "    <tr style=\"text-align: right;\">\n",
       "      <th></th>\n",
       "      <th>Name</th>\n",
       "      <th>Age</th>\n",
       "      <th>Driver</th>\n",
       "    </tr>\n",
       "  </thead>\n",
       "  <tbody>\n",
       "    <tr>\n",
       "      <th>d</th>\n",
       "      <td>Harry</td>\n",
       "      <td>10</td>\n",
       "      <td>True</td>\n",
       "    </tr>\n",
       "  </tbody>\n",
       "</table>\n",
       "</div>"
      ]
     },
     "execution_count": 24,
     "metadata": {},
     "output_type": "execute_result"
    }
   ],
   "execution_count": 24
  },
  {
   "cell_type": "code",
   "id": "f0089ccc",
   "metadata": {
    "ExecuteTime": {
     "end_time": "2024-12-09T13:42:11.433939Z",
     "start_time": "2024-12-09T13:42:11.429061Z"
    }
   },
   "source": [
    "# 새로운 데이터를 추가하여 DataFrame 만들기\n",
    "df = pd.concat([df, new_df])\n",
    "\n",
    "df"
   ],
   "outputs": [
    {
     "data": {
      "text/plain": [
       "     Name  Age  Driver\n",
       "a   Jacky   38    True\n",
       "b  Steven   25   False\n",
       "c  George   23    True\n",
       "d   Harry   10    True"
      ],
      "text/html": [
       "<div>\n",
       "<style scoped>\n",
       "    .dataframe tbody tr th:only-of-type {\n",
       "        vertical-align: middle;\n",
       "    }\n",
       "\n",
       "    .dataframe tbody tr th {\n",
       "        vertical-align: top;\n",
       "    }\n",
       "\n",
       "    .dataframe thead th {\n",
       "        text-align: right;\n",
       "    }\n",
       "</style>\n",
       "<table border=\"1\" class=\"dataframe\">\n",
       "  <thead>\n",
       "    <tr style=\"text-align: right;\">\n",
       "      <th></th>\n",
       "      <th>Name</th>\n",
       "      <th>Age</th>\n",
       "      <th>Driver</th>\n",
       "    </tr>\n",
       "  </thead>\n",
       "  <tbody>\n",
       "    <tr>\n",
       "      <th>a</th>\n",
       "      <td>Jacky</td>\n",
       "      <td>38</td>\n",
       "      <td>True</td>\n",
       "    </tr>\n",
       "    <tr>\n",
       "      <th>b</th>\n",
       "      <td>Steven</td>\n",
       "      <td>25</td>\n",
       "      <td>False</td>\n",
       "    </tr>\n",
       "    <tr>\n",
       "      <th>c</th>\n",
       "      <td>George</td>\n",
       "      <td>23</td>\n",
       "      <td>True</td>\n",
       "    </tr>\n",
       "    <tr>\n",
       "      <th>d</th>\n",
       "      <td>Harry</td>\n",
       "      <td>10</td>\n",
       "      <td>True</td>\n",
       "    </tr>\n",
       "  </tbody>\n",
       "</table>\n",
       "</div>"
      ]
     },
     "execution_count": 25,
     "metadata": {},
     "output_type": "execute_result"
    }
   ],
   "execution_count": 25
  },
  {
   "cell_type": "code",
   "id": "8d664023",
   "metadata": {
    "ExecuteTime": {
     "end_time": "2024-12-09T13:42:11.591044Z",
     "start_time": "2024-12-09T13:42:11.589205Z"
    }
   },
   "source": [],
   "outputs": [],
   "execution_count": null
  },
  {
   "cell_type": "markdown",
   "id": "0a781649",
   "metadata": {},
   "source": [
    "## (3) DataFrame 인덱싱\n",
    "- 자료구조(데이터)에서 하나의 값에 접근하는 것을 인덱싱(indexing)이라고 함\n",
    "Pandas에서 데이터를 선택하고 조작하기 위한 인덱싱은 다양한 방법을 제공합니다:"
   ]
  },
  {
   "cell_type": "code",
   "id": "b202bc2f",
   "metadata": {
    "ExecuteTime": {
     "end_time": "2024-12-09T13:42:11.718808Z",
     "start_time": "2024-12-09T13:42:11.715161Z"
    }
   },
   "source": [
    "data = {\n",
    "    \"Name\":[\"Jacky\", \"Steven\", \"George\"],\n",
    "    \"Age\":[38, 25, 23],\n",
    "    \"Driver\":[True, False, True]\n",
    "}\n",
    "df = pd.DataFrame(data)\n",
    "df.index = [\"a\", \"b\", \"c\"]\n",
    "df.index.name = \"index\"\n",
    "\n",
    "df"
   ],
   "outputs": [
    {
     "data": {
      "text/plain": [
       "         Name  Age  Driver\n",
       "index                     \n",
       "a       Jacky   38    True\n",
       "b      Steven   25   False\n",
       "c      George   23    True"
      ],
      "text/html": [
       "<div>\n",
       "<style scoped>\n",
       "    .dataframe tbody tr th:only-of-type {\n",
       "        vertical-align: middle;\n",
       "    }\n",
       "\n",
       "    .dataframe tbody tr th {\n",
       "        vertical-align: top;\n",
       "    }\n",
       "\n",
       "    .dataframe thead th {\n",
       "        text-align: right;\n",
       "    }\n",
       "</style>\n",
       "<table border=\"1\" class=\"dataframe\">\n",
       "  <thead>\n",
       "    <tr style=\"text-align: right;\">\n",
       "      <th></th>\n",
       "      <th>Name</th>\n",
       "      <th>Age</th>\n",
       "      <th>Driver</th>\n",
       "    </tr>\n",
       "    <tr>\n",
       "      <th>index</th>\n",
       "      <th></th>\n",
       "      <th></th>\n",
       "      <th></th>\n",
       "    </tr>\n",
       "  </thead>\n",
       "  <tbody>\n",
       "    <tr>\n",
       "      <th>a</th>\n",
       "      <td>Jacky</td>\n",
       "      <td>38</td>\n",
       "      <td>True</td>\n",
       "    </tr>\n",
       "    <tr>\n",
       "      <th>b</th>\n",
       "      <td>Steven</td>\n",
       "      <td>25</td>\n",
       "      <td>False</td>\n",
       "    </tr>\n",
       "    <tr>\n",
       "      <th>c</th>\n",
       "      <td>George</td>\n",
       "      <td>23</td>\n",
       "      <td>True</td>\n",
       "    </tr>\n",
       "  </tbody>\n",
       "</table>\n",
       "</div>"
      ]
     },
     "execution_count": 26,
     "metadata": {},
     "output_type": "execute_result"
    }
   ],
   "execution_count": 26
  },
  {
   "cell_type": "markdown",
   "id": "f546603c",
   "metadata": {},
   "source": [
    "1. `[]` (괄호) 인덱싱:\n",
    "   - 특정 열을 선택할 때 사용합니다. 예: `df['column_name']`\n",
    "   - 슬라이싱을 사용하여 행을 선택할 수 있습니다. 예: `df[1:5]`"
   ]
  },
  {
   "cell_type": "code",
   "id": "6933f85b",
   "metadata": {
    "ExecuteTime": {
     "end_time": "2024-12-09T13:42:11.856266Z",
     "start_time": "2024-12-09T13:42:11.852406Z"
    }
   },
   "source": [
    "# 1) 특정 열 선택\n",
    "df[\"Name\"]"
   ],
   "outputs": [
    {
     "data": {
      "text/plain": [
       "index\n",
       "a     Jacky\n",
       "b    Steven\n",
       "c    George\n",
       "Name: Name, dtype: object"
      ]
     },
     "execution_count": 27,
     "metadata": {},
     "output_type": "execute_result"
    }
   ],
   "execution_count": 27
  },
  {
   "cell_type": "code",
   "id": "e7ebe657",
   "metadata": {
    "ExecuteTime": {
     "end_time": "2024-12-09T13:42:11.984107Z",
     "start_time": "2024-12-09T13:42:11.976915Z"
    }
   },
   "source": [
    "df[[\"Name\", \"Driver\"]]"
   ],
   "outputs": [
    {
     "data": {
      "text/plain": [
       "         Name  Driver\n",
       "index                \n",
       "a       Jacky    True\n",
       "b      Steven   False\n",
       "c      George    True"
      ],
      "text/html": [
       "<div>\n",
       "<style scoped>\n",
       "    .dataframe tbody tr th:only-of-type {\n",
       "        vertical-align: middle;\n",
       "    }\n",
       "\n",
       "    .dataframe tbody tr th {\n",
       "        vertical-align: top;\n",
       "    }\n",
       "\n",
       "    .dataframe thead th {\n",
       "        text-align: right;\n",
       "    }\n",
       "</style>\n",
       "<table border=\"1\" class=\"dataframe\">\n",
       "  <thead>\n",
       "    <tr style=\"text-align: right;\">\n",
       "      <th></th>\n",
       "      <th>Name</th>\n",
       "      <th>Driver</th>\n",
       "    </tr>\n",
       "    <tr>\n",
       "      <th>index</th>\n",
       "      <th></th>\n",
       "      <th></th>\n",
       "    </tr>\n",
       "  </thead>\n",
       "  <tbody>\n",
       "    <tr>\n",
       "      <th>a</th>\n",
       "      <td>Jacky</td>\n",
       "      <td>True</td>\n",
       "    </tr>\n",
       "    <tr>\n",
       "      <th>b</th>\n",
       "      <td>Steven</td>\n",
       "      <td>False</td>\n",
       "    </tr>\n",
       "    <tr>\n",
       "      <th>c</th>\n",
       "      <td>George</td>\n",
       "      <td>True</td>\n",
       "    </tr>\n",
       "  </tbody>\n",
       "</table>\n",
       "</div>"
      ]
     },
     "execution_count": 28,
     "metadata": {},
     "output_type": "execute_result"
    }
   ],
   "execution_count": 28
  },
  {
   "cell_type": "code",
   "id": "19b2c34c",
   "metadata": {
    "ExecuteTime": {
     "end_time": "2024-12-09T13:42:12.174052Z",
     "start_time": "2024-12-09T13:42:12.168389Z"
    }
   },
   "source": [
    "# 2) 여러 행 데이터 선택\n",
    "df[0:2]"
   ],
   "outputs": [
    {
     "data": {
      "text/plain": [
       "         Name  Age  Driver\n",
       "index                     \n",
       "a       Jacky   38    True\n",
       "b      Steven   25   False"
      ],
      "text/html": [
       "<div>\n",
       "<style scoped>\n",
       "    .dataframe tbody tr th:only-of-type {\n",
       "        vertical-align: middle;\n",
       "    }\n",
       "\n",
       "    .dataframe tbody tr th {\n",
       "        vertical-align: top;\n",
       "    }\n",
       "\n",
       "    .dataframe thead th {\n",
       "        text-align: right;\n",
       "    }\n",
       "</style>\n",
       "<table border=\"1\" class=\"dataframe\">\n",
       "  <thead>\n",
       "    <tr style=\"text-align: right;\">\n",
       "      <th></th>\n",
       "      <th>Name</th>\n",
       "      <th>Age</th>\n",
       "      <th>Driver</th>\n",
       "    </tr>\n",
       "    <tr>\n",
       "      <th>index</th>\n",
       "      <th></th>\n",
       "      <th></th>\n",
       "      <th></th>\n",
       "    </tr>\n",
       "  </thead>\n",
       "  <tbody>\n",
       "    <tr>\n",
       "      <th>a</th>\n",
       "      <td>Jacky</td>\n",
       "      <td>38</td>\n",
       "      <td>True</td>\n",
       "    </tr>\n",
       "    <tr>\n",
       "      <th>b</th>\n",
       "      <td>Steven</td>\n",
       "      <td>25</td>\n",
       "      <td>False</td>\n",
       "    </tr>\n",
       "  </tbody>\n",
       "</table>\n",
       "</div>"
      ]
     },
     "execution_count": 29,
     "metadata": {},
     "output_type": "execute_result"
    }
   ],
   "execution_count": 29
  },
  {
   "cell_type": "markdown",
   "id": "fe24dfe0",
   "metadata": {},
   "source": [
    "2. `.loc[]` 인덱서:\n",
    "   - 레이블 기반의 인덱싱을 제공합니다.\n",
    "   - `.loc[행 레이블, 열 레이블]` 형식으로 사용합니다."
   ]
  },
  {
   "cell_type": "code",
   "id": "0ce8efed",
   "metadata": {
    "ExecuteTime": {
     "end_time": "2024-12-09T13:42:12.332281Z",
     "start_time": "2024-12-09T13:42:12.329364Z"
    }
   },
   "source": [
    "# 2) .loc을 사용하여 index가 'a'인 행 접근하기\n",
    "df.loc[\"a\"]"
   ],
   "outputs": [
    {
     "data": {
      "text/plain": [
       "Name      Jacky\n",
       "Age          38\n",
       "Driver     True\n",
       "Name: a, dtype: object"
      ]
     },
     "execution_count": 30,
     "metadata": {},
     "output_type": "execute_result"
    }
   ],
   "execution_count": 30
  },
  {
   "cell_type": "code",
   "id": "08bfcc61",
   "metadata": {
    "ExecuteTime": {
     "end_time": "2024-12-09T13:42:12.459207Z",
     "start_time": "2024-12-09T13:42:12.456545Z"
    }
   },
   "source": [
    "# 2) .loc을 사용하여 index가 'a'인 행에서 'Name' 데이터 접근하기\n",
    "print( df.loc[\"a\", \"Name\"] )\n",
    "print( df.loc[\"a\"][\"Name\"] )"
   ],
   "outputs": [
    {
     "name": "stdout",
     "output_type": "stream",
     "text": [
      "Jacky\n",
      "Jacky\n"
     ]
    }
   ],
   "execution_count": 31
  },
  {
   "cell_type": "markdown",
   "id": "161014cc",
   "metadata": {},
   "source": [
    "3. `.iloc[]` 인덱서:\n",
    "   - 정수 기반의 인덱싱을 제공합니다.\n",
    "   - `.iloc[행 위치, 열 위치]` 형식으로 사용합니다.\n",
    "   - 위치(순서)를 기반으로 특정 행이나 열을 선택할 때 사용합니다."
   ]
  },
  {
   "cell_type": "code",
   "id": "62262a58",
   "metadata": {
    "ExecuteTime": {
     "end_time": "2024-12-09T13:42:12.658446Z",
     "start_time": "2024-12-09T13:42:12.654994Z"
    }
   },
   "source": [
    "# 3) .iloc을 사용하여 2번째 행의 데이터에 접근하기\n",
    "df.iloc[1]"
   ],
   "outputs": [
    {
     "data": {
      "text/plain": [
       "Name      Steven\n",
       "Age           25\n",
       "Driver     False\n",
       "Name: b, dtype: object"
      ]
     },
     "execution_count": 32,
     "metadata": {},
     "output_type": "execute_result"
    }
   ],
   "execution_count": 32
  },
  {
   "cell_type": "code",
   "id": "98cab855",
   "metadata": {
    "ExecuteTime": {
     "end_time": "2024-12-09T13:42:12.781511Z",
     "start_time": "2024-12-09T13:42:12.778048Z"
    }
   },
   "source": [
    "# 3) .iloc을 사용하여 2번째 행의 'Age' 데이터에 접근하기\n",
    "print(df.iloc[1][\"Age\"])\n",
    "print(df.iloc[1, 1])"
   ],
   "outputs": [
    {
     "name": "stdout",
     "output_type": "stream",
     "text": [
      "25\n",
      "25\n"
     ]
    }
   ],
   "execution_count": 33
  },
  {
   "cell_type": "markdown",
   "id": "692a4c99",
   "metadata": {},
   "source": [
    "4. 불리언(Boolean) 인덱싱:\n",
    "   - 특정 조건을 충족하는 행을 선택할 때 사용합니다.\n",
    "   - 예: `df[df['column_name'] > 10]`"
   ]
  },
  {
   "cell_type": "code",
   "id": "05dab57a",
   "metadata": {
    "ExecuteTime": {
     "end_time": "2024-12-09T13:42:12.878810Z",
     "start_time": "2024-12-09T13:42:12.875581Z"
    }
   },
   "source": [
    "# 4) Boolean 인덱싱은 데이터를 필터링 할 때 많이 사용됨\n",
    "df[\"Age\"]>=25"
   ],
   "outputs": [
    {
     "data": {
      "text/plain": [
       "index\n",
       "a     True\n",
       "b     True\n",
       "c    False\n",
       "Name: Age, dtype: bool"
      ]
     },
     "execution_count": 34,
     "metadata": {},
     "output_type": "execute_result"
    }
   ],
   "execution_count": 34
  },
  {
   "cell_type": "code",
   "id": "4d6adde5",
   "metadata": {
    "ExecuteTime": {
     "end_time": "2024-12-09T13:42:12.978222Z",
     "start_time": "2024-12-09T13:42:12.973537Z"
    }
   },
   "source": [
    "df[df[\"Age\"]>=25]"
   ],
   "outputs": [
    {
     "data": {
      "text/plain": [
       "         Name  Age  Driver\n",
       "index                     \n",
       "a       Jacky   38    True\n",
       "b      Steven   25   False"
      ],
      "text/html": [
       "<div>\n",
       "<style scoped>\n",
       "    .dataframe tbody tr th:only-of-type {\n",
       "        vertical-align: middle;\n",
       "    }\n",
       "\n",
       "    .dataframe tbody tr th {\n",
       "        vertical-align: top;\n",
       "    }\n",
       "\n",
       "    .dataframe thead th {\n",
       "        text-align: right;\n",
       "    }\n",
       "</style>\n",
       "<table border=\"1\" class=\"dataframe\">\n",
       "  <thead>\n",
       "    <tr style=\"text-align: right;\">\n",
       "      <th></th>\n",
       "      <th>Name</th>\n",
       "      <th>Age</th>\n",
       "      <th>Driver</th>\n",
       "    </tr>\n",
       "    <tr>\n",
       "      <th>index</th>\n",
       "      <th></th>\n",
       "      <th></th>\n",
       "      <th></th>\n",
       "    </tr>\n",
       "  </thead>\n",
       "  <tbody>\n",
       "    <tr>\n",
       "      <th>a</th>\n",
       "      <td>Jacky</td>\n",
       "      <td>38</td>\n",
       "      <td>True</td>\n",
       "    </tr>\n",
       "    <tr>\n",
       "      <th>b</th>\n",
       "      <td>Steven</td>\n",
       "      <td>25</td>\n",
       "      <td>False</td>\n",
       "    </tr>\n",
       "  </tbody>\n",
       "</table>\n",
       "</div>"
      ]
     },
     "execution_count": 35,
     "metadata": {},
     "output_type": "execute_result"
    }
   ],
   "execution_count": 35
  },
  {
   "cell_type": "markdown",
   "id": "346ca94e",
   "metadata": {},
   "source": [
    "5. `.at[]` 및 `.iat[]` 인덱서:\n",
    "   - 단일 스칼라 값을 빠르게 접근할 때 사용합니다.(하나의 Cell에 접근할 때 사용)\n",
    "   - `.at[행 레이블, 열 레이블]`와 `.iat[행 위치, 열 위치]` 형식으로 사용합니다."
   ]
  },
  {
   "cell_type": "code",
   "id": "faa21186",
   "metadata": {
    "ExecuteTime": {
     "end_time": "2024-12-09T13:42:13.097096Z",
     "start_time": "2024-12-09T13:42:13.093308Z"
    }
   },
   "source": [
    "# 5) .at은 index 레이블, column 레이블로 접근함\n",
    "df.at[\"a\", \"Driver\"]"
   ],
   "outputs": [
    {
     "data": {
      "text/plain": [
       "np.True_"
      ]
     },
     "execution_count": 36,
     "metadata": {},
     "output_type": "execute_result"
    }
   ],
   "execution_count": 36
  },
  {
   "cell_type": "code",
   "id": "1b186f7d",
   "metadata": {
    "ExecuteTime": {
     "end_time": "2024-12-09T13:42:13.189383Z",
     "start_time": "2024-12-09T13:42:13.186231Z"
    }
   },
   "source": [
    "# 5) .iat은 index, column 모두 순서(정수 숫자)로 접근함\n",
    "# df.at[\"a\", \"Driver\"]의 같은 데이터를 iat으로 접근하기\n",
    "df.iat[0, 2]"
   ],
   "outputs": [
    {
     "data": {
      "text/plain": [
       "np.True_"
      ]
     },
     "execution_count": 37,
     "metadata": {},
     "output_type": "execute_result"
    }
   ],
   "execution_count": 37
  },
  {
   "cell_type": "code",
   "id": "23fc547f",
   "metadata": {
    "ExecuteTime": {
     "end_time": "2024-12-09T13:42:13.303142Z",
     "start_time": "2024-12-09T13:42:13.299645Z"
    }
   },
   "source": [
    "# 5) .at, .iat은 특정 cell의 값을 변경할 때 사용됨\n",
    "df.at[\"a\", \"Driver\"] = False\n",
    "df"
   ],
   "outputs": [
    {
     "data": {
      "text/plain": [
       "         Name  Age  Driver\n",
       "index                     \n",
       "a       Jacky   38   False\n",
       "b      Steven   25   False\n",
       "c      George   23    True"
      ],
      "text/html": [
       "<div>\n",
       "<style scoped>\n",
       "    .dataframe tbody tr th:only-of-type {\n",
       "        vertical-align: middle;\n",
       "    }\n",
       "\n",
       "    .dataframe tbody tr th {\n",
       "        vertical-align: top;\n",
       "    }\n",
       "\n",
       "    .dataframe thead th {\n",
       "        text-align: right;\n",
       "    }\n",
       "</style>\n",
       "<table border=\"1\" class=\"dataframe\">\n",
       "  <thead>\n",
       "    <tr style=\"text-align: right;\">\n",
       "      <th></th>\n",
       "      <th>Name</th>\n",
       "      <th>Age</th>\n",
       "      <th>Driver</th>\n",
       "    </tr>\n",
       "    <tr>\n",
       "      <th>index</th>\n",
       "      <th></th>\n",
       "      <th></th>\n",
       "      <th></th>\n",
       "    </tr>\n",
       "  </thead>\n",
       "  <tbody>\n",
       "    <tr>\n",
       "      <th>a</th>\n",
       "      <td>Jacky</td>\n",
       "      <td>38</td>\n",
       "      <td>False</td>\n",
       "    </tr>\n",
       "    <tr>\n",
       "      <th>b</th>\n",
       "      <td>Steven</td>\n",
       "      <td>25</td>\n",
       "      <td>False</td>\n",
       "    </tr>\n",
       "    <tr>\n",
       "      <th>c</th>\n",
       "      <td>George</td>\n",
       "      <td>23</td>\n",
       "      <td>True</td>\n",
       "    </tr>\n",
       "  </tbody>\n",
       "</table>\n",
       "</div>"
      ]
     },
     "execution_count": 38,
     "metadata": {},
     "output_type": "execute_result"
    }
   ],
   "execution_count": 38
  },
  {
   "cell_type": "code",
   "id": "0d81fa5b",
   "metadata": {
    "ExecuteTime": {
     "end_time": "2024-12-09T13:42:13.382464Z",
     "start_time": "2024-12-09T13:42:13.380863Z"
    }
   },
   "source": [],
   "outputs": [],
   "execution_count": null
  },
  {
   "cell_type": "markdown",
   "id": "b4b79275",
   "metadata": {},
   "source": [
    "## (4) pandas로 데이터 읽고 쓰기\n",
    "\n",
    "- CSV 파일은 아래와 같이 Pandas로 읽어 들일 수 있다.\n",
    "\n",
    "```python\n",
    "    import pandas as pd\n",
    "  \n",
    "    # input_file은 불러오려는 CSV 파일의 경로\n",
    "    data_frame = pd.read_csv(input_file)\n",
    "```"
   ]
  },
  {
   "cell_type": "code",
   "id": "7a781e0e",
   "metadata": {
    "ExecuteTime": {
     "end_time": "2024-12-15T13:25:14.583605Z",
     "start_time": "2024-12-15T13:25:14.568281Z"
    }
   },
   "source": [
    "# 데이터 읽기\n",
    "\n",
    "data = pd.read_csv(\"../dataset/yfinance_aapl.csv\", index_col=0)\n",
    "data.head(3)"
   ],
   "outputs": [
    {
     "data": {
      "text/plain": [
       "         Date        Open        High         Low       Close   Adj Close  \\\n",
       "0  2023-07-19  193.100006  198.229996  192.649994  195.100006  194.069351   \n",
       "1  2023-07-20  195.089996  196.470001  192.500000  193.130005  192.109756   \n",
       "2  2023-07-21  194.100006  194.970001  191.229996  191.940002  190.926041   \n",
       "\n",
       "     Volume  \n",
       "0  80507300  \n",
       "1  59581200  \n",
       "2  71917800  "
      ],
      "text/html": [
       "<div>\n",
       "<style scoped>\n",
       "    .dataframe tbody tr th:only-of-type {\n",
       "        vertical-align: middle;\n",
       "    }\n",
       "\n",
       "    .dataframe tbody tr th {\n",
       "        vertical-align: top;\n",
       "    }\n",
       "\n",
       "    .dataframe thead th {\n",
       "        text-align: right;\n",
       "    }\n",
       "</style>\n",
       "<table border=\"1\" class=\"dataframe\">\n",
       "  <thead>\n",
       "    <tr style=\"text-align: right;\">\n",
       "      <th></th>\n",
       "      <th>Date</th>\n",
       "      <th>Open</th>\n",
       "      <th>High</th>\n",
       "      <th>Low</th>\n",
       "      <th>Close</th>\n",
       "      <th>Adj Close</th>\n",
       "      <th>Volume</th>\n",
       "    </tr>\n",
       "  </thead>\n",
       "  <tbody>\n",
       "    <tr>\n",
       "      <th>0</th>\n",
       "      <td>2023-07-19</td>\n",
       "      <td>193.100006</td>\n",
       "      <td>198.229996</td>\n",
       "      <td>192.649994</td>\n",
       "      <td>195.100006</td>\n",
       "      <td>194.069351</td>\n",
       "      <td>80507300</td>\n",
       "    </tr>\n",
       "    <tr>\n",
       "      <th>1</th>\n",
       "      <td>2023-07-20</td>\n",
       "      <td>195.089996</td>\n",
       "      <td>196.470001</td>\n",
       "      <td>192.500000</td>\n",
       "      <td>193.130005</td>\n",
       "      <td>192.109756</td>\n",
       "      <td>59581200</td>\n",
       "    </tr>\n",
       "    <tr>\n",
       "      <th>2</th>\n",
       "      <td>2023-07-21</td>\n",
       "      <td>194.100006</td>\n",
       "      <td>194.970001</td>\n",
       "      <td>191.229996</td>\n",
       "      <td>191.940002</td>\n",
       "      <td>190.926041</td>\n",
       "      <td>71917800</td>\n",
       "    </tr>\n",
       "  </tbody>\n",
       "</table>\n",
       "</div>"
      ]
     },
     "execution_count": 4,
     "metadata": {},
     "output_type": "execute_result"
    }
   ],
   "execution_count": 4
  },
  {
   "metadata": {
    "ExecuteTime": {
     "end_time": "2024-12-09T13:42:13.464675Z",
     "start_time": "2024-12-09T13:42:13.461148Z"
    }
   },
   "cell_type": "code",
   "outputs": [],
   "execution_count": 39,
   "source": [
    "# import yfinance as yf\n",
    "# data = yf.download(\"AAPL\", period=\"36mo\").reset_index()\n",
    "# data.to_csv(\"../dataset/yfinance_aapl_3year.csv\")"
   ],
   "id": "dbdf3e88"
  },
  {
   "cell_type": "code",
   "id": "06406f11",
   "metadata": {
    "ExecuteTime": {
     "end_time": "2024-12-15T13:25:23.372981Z",
     "start_time": "2024-12-15T13:25:23.367622Z"
    }
   },
   "source": [
    "# 데이터 csv로 저장\n",
    "data.to_csv(\"test.csv\")\n"
   ],
   "outputs": [],
   "execution_count": 5
  },
  {
   "cell_type": "code",
   "id": "bfec5fa5",
   "metadata": {
    "ExecuteTime": {
     "end_time": "2024-12-15T13:25:33.148914Z",
     "start_time": "2024-12-15T13:25:33.050120Z"
    }
   },
   "source": [
    "# excel 데이터 읽기\n",
    "# !pip install openpyxl\n",
    "data = pd.read_excel(\"../dataset/yfinance_aapl.xlsx\", sheet_name=\"aapl\", engine=\"openpyxl\", index_col=0)"
   ],
   "outputs": [],
   "execution_count": 6
  },
  {
   "cell_type": "code",
   "id": "4f839930",
   "metadata": {
    "ExecuteTime": {
     "end_time": "2024-12-15T13:25:46.729859Z",
     "start_time": "2024-12-15T13:25:46.702425Z"
    }
   },
   "source": [
    "# 데이터를 excel로 저장\n",
    "data.to_excel(\"../dataset/res_yfinance_aapl.xlsx\", sheet_name=\"aapl\", engine=\"openpyxl\")"
   ],
   "outputs": [],
   "execution_count": 7
  }
 ],
 "metadata": {
  "celltoolbar": "Slideshow",
  "kernelspec": {
   "display_name": "Python 3 (ipykernel)",
   "language": "python",
   "name": "python3"
  },
  "language_info": {
   "codemirror_mode": {
    "name": "ipython",
    "version": 3
   },
   "file_extension": ".py",
   "mimetype": "text/x-python",
   "name": "python",
   "nbconvert_exporter": "python",
   "pygments_lexer": "ipython3",
   "version": "3.8.19"
  }
 },
 "nbformat": 4,
 "nbformat_minor": 5
}
